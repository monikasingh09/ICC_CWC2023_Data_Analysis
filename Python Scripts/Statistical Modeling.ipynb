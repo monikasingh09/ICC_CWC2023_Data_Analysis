{
 "cells": [
  {
   "cell_type": "code",
   "execution_count": 280,
   "id": "bd9bb1d5-6873-4817-bbc6-f5c5087fe226",
   "metadata": {},
   "outputs": [],
   "source": [
    "import pandas as pd\n",
    "import matplotlib.pyplot as plt\n",
    "import seaborn as sns"
   ]
  },
  {
   "cell_type": "code",
   "execution_count": 281,
   "id": "e33954e8-471d-4d9d-a13e-82d95b7423b7",
   "metadata": {},
   "outputs": [
    {
     "data": {
      "text/html": [
       "<div>\n",
       "<style scoped>\n",
       "    .dataframe tbody tr th:only-of-type {\n",
       "        vertical-align: middle;\n",
       "    }\n",
       "\n",
       "    .dataframe tbody tr th {\n",
       "        vertical-align: top;\n",
       "    }\n",
       "\n",
       "    .dataframe thead th {\n",
       "        text-align: right;\n",
       "    }\n",
       "</style>\n",
       "<table border=\"1\" class=\"dataframe\">\n",
       "  <thead>\n",
       "    <tr style=\"text-align: right;\">\n",
       "      <th></th>\n",
       "      <th>Match_id</th>\n",
       "      <th>Team</th>\n",
       "      <th>Opposite_Team</th>\n",
       "      <th>Innings</th>\n",
       "      <th>Batsman</th>\n",
       "      <th>Dismissal Type</th>\n",
       "      <th>Fielder</th>\n",
       "      <th>Bowler</th>\n",
       "      <th>Runs</th>\n",
       "      <th>Balls</th>\n",
       "      <th>Boundaries</th>\n",
       "      <th>Sixes</th>\n",
       "      <th>StrikeRate</th>\n",
       "    </tr>\n",
       "  </thead>\n",
       "  <tbody>\n",
       "    <tr>\n",
       "      <th>0</th>\n",
       "      <td>1</td>\n",
       "      <td>England</td>\n",
       "      <td>New Zealand</td>\n",
       "      <td>1</td>\n",
       "      <td>Jonny Bairstow</td>\n",
       "      <td>Catch</td>\n",
       "      <td>Daryl Mitchell</td>\n",
       "      <td>Mitchell Santner</td>\n",
       "      <td>33</td>\n",
       "      <td>35</td>\n",
       "      <td>4</td>\n",
       "      <td>1</td>\n",
       "      <td>94.29</td>\n",
       "    </tr>\n",
       "    <tr>\n",
       "      <th>1</th>\n",
       "      <td>1</td>\n",
       "      <td>England</td>\n",
       "      <td>New Zealand</td>\n",
       "      <td>1</td>\n",
       "      <td>Dawid Malan</td>\n",
       "      <td>Catch</td>\n",
       "      <td>Latham</td>\n",
       "      <td>Matt Henry</td>\n",
       "      <td>14</td>\n",
       "      <td>24</td>\n",
       "      <td>2</td>\n",
       "      <td>0</td>\n",
       "      <td>58.33</td>\n",
       "    </tr>\n",
       "    <tr>\n",
       "      <th>2</th>\n",
       "      <td>1</td>\n",
       "      <td>England</td>\n",
       "      <td>New Zealand</td>\n",
       "      <td>1</td>\n",
       "      <td>Joe Root</td>\n",
       "      <td>Bowled</td>\n",
       "      <td>-</td>\n",
       "      <td>Glenn Phillips</td>\n",
       "      <td>77</td>\n",
       "      <td>86</td>\n",
       "      <td>4</td>\n",
       "      <td>1</td>\n",
       "      <td>89.53</td>\n",
       "    </tr>\n",
       "    <tr>\n",
       "      <th>3</th>\n",
       "      <td>1</td>\n",
       "      <td>England</td>\n",
       "      <td>New Zealand</td>\n",
       "      <td>1</td>\n",
       "      <td>Harry Brook</td>\n",
       "      <td>Catch</td>\n",
       "      <td>Devon Conway</td>\n",
       "      <td>Rachin Ravindra</td>\n",
       "      <td>25</td>\n",
       "      <td>16</td>\n",
       "      <td>4</td>\n",
       "      <td>1</td>\n",
       "      <td>156.25</td>\n",
       "    </tr>\n",
       "    <tr>\n",
       "      <th>4</th>\n",
       "      <td>1</td>\n",
       "      <td>England</td>\n",
       "      <td>New Zealand</td>\n",
       "      <td>1</td>\n",
       "      <td>Moeen Ali</td>\n",
       "      <td>Bowled</td>\n",
       "      <td>-</td>\n",
       "      <td>Glenn Phillips</td>\n",
       "      <td>11</td>\n",
       "      <td>17</td>\n",
       "      <td>1</td>\n",
       "      <td>0</td>\n",
       "      <td>64.71</td>\n",
       "    </tr>\n",
       "  </tbody>\n",
       "</table>\n",
       "</div>"
      ],
      "text/plain": [
       "   Match_id     Team Opposite_Team  Innings         Batsman Dismissal Type  \\\n",
       "0         1  England   New Zealand        1  Jonny Bairstow          Catch   \n",
       "1         1  England   New Zealand        1     Dawid Malan          Catch   \n",
       "2         1  England   New Zealand        1        Joe Root         Bowled   \n",
       "3         1  England   New Zealand        1     Harry Brook          Catch   \n",
       "4         1  England   New Zealand        1       Moeen Ali         Bowled   \n",
       "\n",
       "          Fielder            Bowler  Runs  Balls  Boundaries  Sixes  \\\n",
       "0  Daryl Mitchell  Mitchell Santner    33     35           4      1   \n",
       "1          Latham        Matt Henry    14     24           2      0   \n",
       "2               -    Glenn Phillips    77     86           4      1   \n",
       "3    Devon Conway   Rachin Ravindra    25     16           4      1   \n",
       "4               -    Glenn Phillips    11     17           1      0   \n",
       "\n",
       "   StrikeRate  \n",
       "0       94.29  \n",
       "1       58.33  \n",
       "2       89.53  \n",
       "3      156.25  \n",
       "4       64.71  "
      ]
     },
     "execution_count": 281,
     "metadata": {},
     "output_type": "execute_result"
    }
   ],
   "source": [
    "bat = pd.read_csv('final_batting_df.csv')\n",
    "bat.head()"
   ]
  },
  {
   "cell_type": "code",
   "execution_count": 282,
   "id": "4b3e9b1c-e20d-49f6-b6dd-3f6ad48a12c6",
   "metadata": {},
   "outputs": [
    {
     "data": {
      "text/html": [
       "<div>\n",
       "<style scoped>\n",
       "    .dataframe tbody tr th:only-of-type {\n",
       "        vertical-align: middle;\n",
       "    }\n",
       "\n",
       "    .dataframe tbody tr th {\n",
       "        vertical-align: top;\n",
       "    }\n",
       "\n",
       "    .dataframe thead th {\n",
       "        text-align: right;\n",
       "    }\n",
       "</style>\n",
       "<table border=\"1\" class=\"dataframe\">\n",
       "  <thead>\n",
       "    <tr style=\"text-align: right;\">\n",
       "      <th></th>\n",
       "      <th>Match_id</th>\n",
       "      <th>Team</th>\n",
       "      <th>Opposite_Team</th>\n",
       "      <th>Innings</th>\n",
       "      <th>Bowler</th>\n",
       "      <th>Overs</th>\n",
       "      <th>Maindens</th>\n",
       "      <th>Runs</th>\n",
       "      <th>Wickets</th>\n",
       "      <th>No_Balls</th>\n",
       "      <th>Wides</th>\n",
       "      <th>Economy</th>\n",
       "    </tr>\n",
       "  </thead>\n",
       "  <tbody>\n",
       "    <tr>\n",
       "      <th>0</th>\n",
       "      <td>1</td>\n",
       "      <td>New Zealand</td>\n",
       "      <td>England</td>\n",
       "      <td>1</td>\n",
       "      <td>Trent Boult</td>\n",
       "      <td>10.0</td>\n",
       "      <td>1</td>\n",
       "      <td>48</td>\n",
       "      <td>1</td>\n",
       "      <td>0</td>\n",
       "      <td>1</td>\n",
       "      <td>4.8</td>\n",
       "    </tr>\n",
       "    <tr>\n",
       "      <th>1</th>\n",
       "      <td>1</td>\n",
       "      <td>New Zealand</td>\n",
       "      <td>England</td>\n",
       "      <td>1</td>\n",
       "      <td>Matt Henry</td>\n",
       "      <td>10.0</td>\n",
       "      <td>1</td>\n",
       "      <td>48</td>\n",
       "      <td>3</td>\n",
       "      <td>0</td>\n",
       "      <td>0</td>\n",
       "      <td>4.8</td>\n",
       "    </tr>\n",
       "    <tr>\n",
       "      <th>2</th>\n",
       "      <td>1</td>\n",
       "      <td>New Zealand</td>\n",
       "      <td>England</td>\n",
       "      <td>1</td>\n",
       "      <td>Mitchell Santner</td>\n",
       "      <td>10.0</td>\n",
       "      <td>0</td>\n",
       "      <td>37</td>\n",
       "      <td>2</td>\n",
       "      <td>0</td>\n",
       "      <td>1</td>\n",
       "      <td>3.7</td>\n",
       "    </tr>\n",
       "    <tr>\n",
       "      <th>3</th>\n",
       "      <td>1</td>\n",
       "      <td>New Zealand</td>\n",
       "      <td>England</td>\n",
       "      <td>1</td>\n",
       "      <td>Jimmy Neesham</td>\n",
       "      <td>7.0</td>\n",
       "      <td>0</td>\n",
       "      <td>56</td>\n",
       "      <td>0</td>\n",
       "      <td>0</td>\n",
       "      <td>4</td>\n",
       "      <td>8.0</td>\n",
       "    </tr>\n",
       "    <tr>\n",
       "      <th>4</th>\n",
       "      <td>1</td>\n",
       "      <td>New Zealand</td>\n",
       "      <td>England</td>\n",
       "      <td>1</td>\n",
       "      <td>Rachin Ravindra</td>\n",
       "      <td>10.0</td>\n",
       "      <td>0</td>\n",
       "      <td>76</td>\n",
       "      <td>1</td>\n",
       "      <td>0</td>\n",
       "      <td>0</td>\n",
       "      <td>7.6</td>\n",
       "    </tr>\n",
       "  </tbody>\n",
       "</table>\n",
       "</div>"
      ],
      "text/plain": [
       "   Match_id         Team Opposite_Team  Innings            Bowler  Overs  \\\n",
       "0         1  New Zealand       England        1       Trent Boult   10.0   \n",
       "1         1  New Zealand       England        1        Matt Henry   10.0   \n",
       "2         1  New Zealand       England        1  Mitchell Santner   10.0   \n",
       "3         1  New Zealand       England        1     Jimmy Neesham    7.0   \n",
       "4         1  New Zealand       England        1   Rachin Ravindra   10.0   \n",
       "\n",
       "   Maindens  Runs  Wickets  No_Balls  Wides  Economy  \n",
       "0         1    48        1         0      1      4.8  \n",
       "1         1    48        3         0      0      4.8  \n",
       "2         0    37        2         0      1      3.7  \n",
       "3         0    56        0         0      4      8.0  \n",
       "4         0    76        1         0      0      7.6  "
      ]
     },
     "execution_count": 282,
     "metadata": {},
     "output_type": "execute_result"
    }
   ],
   "source": [
    "bowl = pd.read_csv('final_bowling_df.csv')\n",
    "bowl.head()"
   ]
  },
  {
   "cell_type": "code",
   "execution_count": 283,
   "id": "c6c91c6d-8ae8-4d40-acdb-b02827fc217d",
   "metadata": {},
   "outputs": [
    {
     "data": {
      "text/html": [
       "<div>\n",
       "<style scoped>\n",
       "    .dataframe tbody tr th:only-of-type {\n",
       "        vertical-align: middle;\n",
       "    }\n",
       "\n",
       "    .dataframe tbody tr th {\n",
       "        vertical-align: top;\n",
       "    }\n",
       "\n",
       "    .dataframe thead th {\n",
       "        text-align: right;\n",
       "    }\n",
       "</style>\n",
       "<table border=\"1\" class=\"dataframe\">\n",
       "  <thead>\n",
       "    <tr style=\"text-align: right;\">\n",
       "      <th></th>\n",
       "      <th>Match_id</th>\n",
       "      <th>Match</th>\n",
       "      <th>Team1</th>\n",
       "      <th>Team2</th>\n",
       "      <th>Venue</th>\n",
       "      <th>City</th>\n",
       "      <th>Winner</th>\n",
       "      <th>Won_By</th>\n",
       "      <th>Player_of_the_Match</th>\n",
       "      <th>Match_Info</th>\n",
       "    </tr>\n",
       "  </thead>\n",
       "  <tbody>\n",
       "    <tr>\n",
       "      <th>0</th>\n",
       "      <td>1</td>\n",
       "      <td>ENGLAND vs NEW ZEALAND</td>\n",
       "      <td>England</td>\n",
       "      <td>New zealand</td>\n",
       "      <td>Narendra Modi Stadium</td>\n",
       "      <td>Ahmedabad</td>\n",
       "      <td>New Zealand</td>\n",
       "      <td>9 wkts</td>\n",
       "      <td>Rachin Ravindra</td>\n",
       "      <td>https://www.cricbuzz.com/live-cricket-scorecar...</td>\n",
       "    </tr>\n",
       "    <tr>\n",
       "      <th>1</th>\n",
       "      <td>2</td>\n",
       "      <td>PAKISTAN vs NETHERLANDS</td>\n",
       "      <td>Pakistan</td>\n",
       "      <td>Netherlands</td>\n",
       "      <td>Rajiv Gandhi International Stadium</td>\n",
       "      <td>Hyderabad</td>\n",
       "      <td>Pakistan</td>\n",
       "      <td>81 runs</td>\n",
       "      <td>Saud Shakeel</td>\n",
       "      <td>https://www.cricbuzz.com/live-cricket-scorecar...</td>\n",
       "    </tr>\n",
       "    <tr>\n",
       "      <th>2</th>\n",
       "      <td>3</td>\n",
       "      <td>BANGLADESH vs AFGHANISTAN</td>\n",
       "      <td>Bangladesh</td>\n",
       "      <td>Afghanistan</td>\n",
       "      <td>Himachal Pradesh Cricket Association Stadium</td>\n",
       "      <td>Dharamsala</td>\n",
       "      <td>Bangladesh</td>\n",
       "      <td>6 wkts</td>\n",
       "      <td>Mehidy Hasan Miraz</td>\n",
       "      <td>https://www.cricbuzz.com/live-cricket-scorecar...</td>\n",
       "    </tr>\n",
       "    <tr>\n",
       "      <th>3</th>\n",
       "      <td>4</td>\n",
       "      <td>SOUTH AFRICA vs SRI LANKA</td>\n",
       "      <td>South africa</td>\n",
       "      <td>Sri lanka</td>\n",
       "      <td>Arun Jaitley Stadium</td>\n",
       "      <td>Delhi</td>\n",
       "      <td>South Africa</td>\n",
       "      <td>102 runs</td>\n",
       "      <td>Aiden Markram</td>\n",
       "      <td>https://www.cricbuzz.com/live-cricket-scorecar...</td>\n",
       "    </tr>\n",
       "    <tr>\n",
       "      <th>4</th>\n",
       "      <td>5</td>\n",
       "      <td>INDIA vs AUSTRALIA</td>\n",
       "      <td>India</td>\n",
       "      <td>Australia</td>\n",
       "      <td>MA Chidambaram Stadium</td>\n",
       "      <td>Chennai</td>\n",
       "      <td>India</td>\n",
       "      <td>6 wkts</td>\n",
       "      <td>KL Rahul</td>\n",
       "      <td>https://www.cricbuzz.com/live-cricket-scorecar...</td>\n",
       "    </tr>\n",
       "  </tbody>\n",
       "</table>\n",
       "</div>"
      ],
      "text/plain": [
       "   Match_id                      Match         Team1        Team2  \\\n",
       "0         1     ENGLAND vs NEW ZEALAND       England  New zealand   \n",
       "1         2    PAKISTAN vs NETHERLANDS      Pakistan  Netherlands   \n",
       "2         3  BANGLADESH vs AFGHANISTAN    Bangladesh  Afghanistan   \n",
       "3         4  SOUTH AFRICA vs SRI LANKA  South africa    Sri lanka   \n",
       "4         5         INDIA vs AUSTRALIA         India    Australia   \n",
       "\n",
       "                                          Venue        City        Winner  \\\n",
       "0                         Narendra Modi Stadium   Ahmedabad   New Zealand   \n",
       "1            Rajiv Gandhi International Stadium   Hyderabad      Pakistan   \n",
       "2  Himachal Pradesh Cricket Association Stadium  Dharamsala    Bangladesh   \n",
       "3                          Arun Jaitley Stadium       Delhi  South Africa   \n",
       "4                        MA Chidambaram Stadium     Chennai         India   \n",
       "\n",
       "     Won_By Player_of_the_Match  \\\n",
       "0    9 wkts     Rachin Ravindra   \n",
       "1   81 runs        Saud Shakeel   \n",
       "2    6 wkts  Mehidy Hasan Miraz   \n",
       "3  102 runs       Aiden Markram   \n",
       "4    6 wkts            KL Rahul   \n",
       "\n",
       "                                          Match_Info  \n",
       "0  https://www.cricbuzz.com/live-cricket-scorecar...  \n",
       "1  https://www.cricbuzz.com/live-cricket-scorecar...  \n",
       "2  https://www.cricbuzz.com/live-cricket-scorecar...  \n",
       "3  https://www.cricbuzz.com/live-cricket-scorecar...  \n",
       "4  https://www.cricbuzz.com/live-cricket-scorecar...  "
      ]
     },
     "execution_count": 283,
     "metadata": {},
     "output_type": "execute_result"
    }
   ],
   "source": [
    "sch = pd.read_csv('schedule.csv')\n",
    "sch.head()"
   ]
  },
  {
   "cell_type": "markdown",
   "id": "52efdecf-dae2-482c-af6f-a9ab9b7a1215",
   "metadata": {},
   "source": [
    "#### Is Rohit scores in powerplay impacted India total scores in First Batting and while chasing helped India Winning ?"
   ]
  },
  {
   "cell_type": "code",
   "execution_count": 284,
   "id": "360cbc67-f2a1-44c7-98d8-fb84e8a59e6c",
   "metadata": {},
   "outputs": [
    {
     "data": {
      "text/plain": [
       "(array([ 5,  9, 12, 17, 21], dtype=int64),\n",
       " array([29, 33, 37, 45, 46], dtype=int64))"
      ]
     },
     "execution_count": 284,
     "metadata": {},
     "output_type": "execute_result"
    }
   ],
   "source": [
    "#sch[(sch['Team1'] == 'India') & (sch['Won_By'].str.contains('wkts'))] # 2nd innings or chasing \n",
    "india_chasing_mat_ids = sch[(sch['Winner'] == 'India') & (sch['Won_By'].str.contains('wkts'))]['Match_id'].values\n",
    "india_batting_mat_ids = sch[(sch['Winner'] == 'India') & (~sch['Won_By'].str.contains('wkts'))]['Match_id'].values\n",
    "india_chasing_mat_ids,india_batting_mat_ids"
   ]
  },
  {
   "cell_type": "code",
   "execution_count": 285,
   "id": "4e430991-aed2-4fb1-991a-5f6953b797e3",
   "metadata": {},
   "outputs": [
    {
     "data": {
      "text/plain": [
       "(array([  0, 131,  86,  48,  46], dtype=int64),\n",
       " array([87,  4, 40, 61, 47], dtype=int64))"
      ]
     },
     "execution_count": 285,
     "metadata": {},
     "output_type": "execute_result"
    }
   ],
   "source": [
    "# Rohit Sharma Chasing Runs \n",
    "rohit_chasing_runs = bat[(bat['Match_id'].isin(india_chasing_mat_ids)) & (bat['Batsman'] == 'Rohit Sharma')]['Runs'].values\n",
    "rohit_batting_runs = bat[(bat['Match_id'].isin(india_batting_mat_ids)) & (bat['Batsman'] == 'Rohit Sharma')]['Runs'].values\n",
    "rohit_chasing_runs,rohit_batting_runs"
   ]
  },
  {
   "cell_type": "code",
   "execution_count": 286,
   "id": "71730ff9-7168-49ce-98fe-068d0ad1094c",
   "metadata": {},
   "outputs": [
    {
     "name": "stdout",
     "output_type": "stream",
     "text": [
      "Correlation between powerplay runs and India's total score: 58.38%\n",
      "Correlation between powerplay runs and India's total score: 44.48%\n"
     ]
    }
   ],
   "source": [
    "runs = [47,87,4,40,61,47]\n",
    "powerplay = [80,35,60,91,91,84]\n",
    "India_total = [240,229,357,326,410,397]\n",
    "Result = [False,True,True,True,True,True]\n",
    "\n",
    "runs_c = [0,131,86,48,46]\n",
    "powerplay_c = [27,94,79,63,63]\n",
    "India_total_c = [201,273,197,261,274]\n",
    "Result_c = [True,True,True,True,True]\n",
    "\n",
    "correlation_powerplay_total = np.corrcoef(powerplay, India_total)[0, 1]\n",
    "print(\"Correlation between powerplay runs and India's total score:\", str(round(correlation_powerplay_total*100,2))+'%')\n",
    "correlation_powerplay_total = np.corrcoef(powerplay_c, India_total_c)[0, 1]\n",
    "print(\"Correlation between powerplay runs and India's total score:\", str(round(correlation_powerplay_total*100,2))+'%')"
   ]
  },
  {
   "cell_type": "markdown",
   "id": "888c39ca-e1c1-409a-9737-8c0c3cdb0c64",
   "metadata": {},
   "source": [
    "#### 1st Batting in Chennai could consider them winners + Chennai pitch is Favoured to the Spinner (If Needed do Analysis for Lucknow Also )"
   ]
  },
  {
   "cell_type": "code",
   "execution_count": 287,
   "id": "c5001b1a-643c-42ba-8fca-1883eba87716",
   "metadata": {},
   "outputs": [
    {
     "data": {
      "text/plain": [
       "80.0"
      ]
     },
     "execution_count": 287,
     "metadata": {},
     "output_type": "execute_result"
    }
   ],
   "source": [
    "#sch[sch['City'] == 'Chennai']['Won_By'].str.contains('wkts').count()\n",
    "chennai = sch[sch['City']=='Chennai']\n",
    "chennai[chennai['Won_By'].str.contains('wkt')].shape[0]/chennai.shape[0]*100"
   ]
  },
  {
   "cell_type": "code",
   "execution_count": 288,
   "id": "453df978-4631-4573-8b37-7f0c42a0c438",
   "metadata": {},
   "outputs": [
    {
     "data": {
      "text/plain": [
       "array([ 5, 11, 16, 22, 26], dtype=int64)"
      ]
     },
     "execution_count": 288,
     "metadata": {},
     "output_type": "execute_result"
    }
   ],
   "source": [
    "chennai_match_ids = chennai.Match_id.values\n",
    "chennai_match_ids"
   ]
  },
  {
   "cell_type": "code",
   "execution_count": 289,
   "id": "2b1058fd-227a-45be-bdc3-df136fbed523",
   "metadata": {},
   "outputs": [],
   "source": [
    "c_bowl = bowl[bowl['Match_id'].isin(chennai_match_ids)]"
   ]
  },
  {
   "cell_type": "code",
   "execution_count": 290,
   "id": "4c82a913-2322-41a8-b4fb-99bfeea58e6d",
   "metadata": {},
   "outputs": [],
   "source": [
    "import pandas as pd\n",
    "\n",
    "# Create a list of player data with corrected categories\n",
    "players = [\n",
    "    [\"Jasprit Bumrah\", \"Seamer\"],\n",
    "    [\"Mohammed Siraj\", \"Seamer\"],\n",
    "    [\"Hardik Pandya\", \"Seamer\"],  # Updated to \"Seamer\" assuming predominant bowling style\n",
    "    [\"Ravichandran Ashwin\", \"Spinner\"],\n",
    "    [\"Kuldeep Yadav\", \"Spinner\"],\n",
    "    [\"Ravindra Jadeja\", \"Spinner\"],\n",
    "    [\"Trent Boult\", \"Seamer\"],\n",
    "    [\"Matt Henry\", \"Seamer\"],\n",
    "    [\"Lockie Ferguson\", \"Seamer\"],\n",
    "    [\"Mitchell Santner\", \"Spinner\"],\n",
    "    [\"Glenn Phillips\", \"Spinner\"],  # Updated to \"Spinner\" assuming predominant bowling style\n",
    "    [\"Rachin Ravindra\", \"Spinner\"],  # Updated to \"Spinner\" assuming predominant bowling style\n",
    "    [\"Daryl Mitchell\", \"Seamer\"],  # Updated to \"Seamer\" assuming predominant bowling style\n",
    "    [\"Mujeeb Ur Rahman\", \"Spinner\"],\n",
    "    [\"Fazalhaq Farooqi\", \"Seamer\"],\n",
    "    [\"Naveen-ul-Haq\", \"Seamer\"],\n",
    "    [\"Mohammad Nabi\", \"Spinner\"],  # Updated to \"Spinner\" assuming predominant bowling style\n",
    "    [\"Rashid Khan\", \"Spinner\"],\n",
    "    [\"Azmatullah Omarzai\", \"Seamer\"],\n",
    "    [\"Noor Ahmad\", \"Spinner\"],\n",
    "    [\"Marco Jansen\", \"Seamer\"],\n",
    "    [\"Lungi Ngidi\", \"Seamer\"],\n",
    "    [\"Markram\", \"Spinner\"],  # Updated to \"Spinner\" assuming predominant bowling style\n",
    "    [\"Maharaj\", \"Spinner\"],\n",
    "    [\"Gerald Coetzee\", \"Seamer\"],\n",
    "    [\"Shamsi\", \"Spinner\"],\n",
    "    [\"Mitchell Starc\", \"Seamer\"],\n",
    "    [\"Josh Hazlewood\", \"Seamer\"],\n",
    "    [\"Pat Cummins\", \"Seamer\"],\n",
    "    [\"Glenn Maxwell\", \"Spinner\"],  # Updated to \"Spinner\" assuming predominant bowling style\n",
    "    [\"Cameron Green\", \"Seamer\"],  # Updated to \"Seamer\" assuming predominant bowling style\n",
    "    [\"Adam Zampa\", \"Spinner\"],\n",
    "    [\"Mustafizur Rahman\", \"Seamer\"],\n",
    "    [\"Shoriful Islam\", \"Seamer\"],\n",
    "    [\"Taskin Ahmed\", \"Seamer\"],\n",
    "    [\"Shakib Al Hasan\", \"Spinner\"],  # Updated to \"Spinner\" assuming predominant bowling style\n",
    "    [\"Mehidy Hasan Miraz\", \"Spinner\"],\n",
    "    [\"Shaheen Afridi\", \"Seamer\"],\n",
    "    [\"Hasan Ali\", \"Seamer\"],\n",
    "    [\"Haris Rauf\", \"Seamer\"],\n",
    "    [\"Usama Mir\", \"Spinner\"],\n",
    "    [\"Shadab Khan\", \"Spinner\"],\n",
    "    [\"Iftikhar Ahmed\", \"Spinner\"],\n",
    "    [\"Mohammad Nawaz\", \"Spinner\"],\n",
    "    [\"Mohammad Wasim Jr\", \"Seamer\"],\n",
    "]\n",
    "\n",
    "# Create a DataFrame from the list of players\n",
    "df = pd.DataFrame(players, columns=[\"Player Name\", \"Bowler Type\"])"
   ]
  },
  {
   "cell_type": "code",
   "execution_count": 291,
   "id": "565b538e-c4a2-45e9-b8f7-089465da50b9",
   "metadata": {},
   "outputs": [
    {
     "data": {
      "text/plain": [
       "Bowler Type\n",
       "Seamer     52.0\n",
       "Spinner    48.0\n",
       "Name: Wickets, dtype: float64"
      ]
     },
     "execution_count": 291,
     "metadata": {},
     "output_type": "execute_result"
    }
   ],
   "source": [
    "df2 = pd.merge(left=c_bowl,right=df,left_on='Bowler',right_on='Player Name',how='inner')\n",
    "round(df2.groupby('Bowler Type')['Wickets'].count() / df2.shape[0]*100)"
   ]
  },
  {
   "cell_type": "markdown",
   "id": "8ed2fe41-abe1-44dc-854c-181b23062f8c",
   "metadata": {},
   "source": [
    "#### South Africa 1st Inning score is morethan 300 in that south Africa Won \n"
   ]
  },
  {
   "cell_type": "code",
   "execution_count": 292,
   "id": "4f260ff6-5ccd-4313-993e-fa4dc219a1d2",
   "metadata": {},
   "outputs": [
    {
     "data": {
      "text/plain": [
       "array([ 4, 10, 20, 23, 32, 47], dtype=int64)"
      ]
     },
     "execution_count": 292,
     "metadata": {},
     "output_type": "execute_result"
    }
   ],
   "source": [
    "south_africa_first_300 = bat[(bat['Team'] == 'South Africa') & (bat['Innings'] == 1)]['Match_id'].unique()\n",
    "south_africa_first_300"
   ]
  },
  {
   "cell_type": "code",
   "execution_count": 293,
   "id": "aabb3ad5-266a-4d56-b05d-656e2bf1e6e8",
   "metadata": {},
   "outputs": [
    {
     "data": {
      "text/plain": [
       "83.33"
      ]
     },
     "execution_count": 293,
     "metadata": {},
     "output_type": "execute_result"
    }
   ],
   "source": [
    "round(sch[sch['Match_id'].isin(south_africa_first_300) & (sch['Winner'] == 'South Africa')].shape[0]/len(south_africa_first_300)*100,2)"
   ]
  }
 ],
 "metadata": {
  "kernelspec": {
   "display_name": "Python 3 (ipykernel)",
   "language": "python",
   "name": "python3"
  },
  "language_info": {
   "codemirror_mode": {
    "name": "ipython",
    "version": 3
   },
   "file_extension": ".py",
   "mimetype": "text/x-python",
   "name": "python",
   "nbconvert_exporter": "python",
   "pygments_lexer": "ipython3",
   "version": "3.10.9"
  }
 },
 "nbformat": 4,
 "nbformat_minor": 5
}
