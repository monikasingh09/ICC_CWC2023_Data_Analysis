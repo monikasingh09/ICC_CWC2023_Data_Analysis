{
 "cells": [
  {
   "cell_type": "markdown",
   "id": "03cb7d40-ab32-4267-858a-aa5c11bc304d",
   "metadata": {},
   "source": [
    "# Match Wise Data Scraping"
   ]
  },
  {
   "cell_type": "markdown",
   "id": "9a0bef6b-19a0-4a57-a490-c8f2977e8de6",
   "metadata": {},
   "source": [
    "### Data Inspection"
   ]
  },
  {
   "cell_type": "code",
   "execution_count": 1,
   "id": "20f8a414-d2de-4084-86ae-ae2e7b1916e7",
   "metadata": {},
   "outputs": [],
   "source": [
    "from bs4 import BeautifulSoup\n",
    "import requests\n",
    "import pandas as pd\n",
    "import numpy as np"
   ]
  },
  {
   "cell_type": "code",
   "execution_count": 60,
   "id": "d0b22c14-dbbe-49f1-bd30-1fb1fd020f9f",
   "metadata": {
    "scrolled": true
   },
   "outputs": [
    {
     "data": {
      "text/html": [
       "<div>\n",
       "<style scoped>\n",
       "    .dataframe tbody tr th:only-of-type {\n",
       "        vertical-align: middle;\n",
       "    }\n",
       "\n",
       "    .dataframe tbody tr th {\n",
       "        vertical-align: top;\n",
       "    }\n",
       "\n",
       "    .dataframe thead th {\n",
       "        text-align: right;\n",
       "    }\n",
       "</style>\n",
       "<table border=\"1\" class=\"dataframe\">\n",
       "  <thead>\n",
       "    <tr style=\"text-align: right;\">\n",
       "      <th></th>\n",
       "      <th>Unnamed: 0</th>\n",
       "      <th>Match_id</th>\n",
       "      <th>Match</th>\n",
       "      <th>Team1</th>\n",
       "      <th>Team2</th>\n",
       "      <th>Venue</th>\n",
       "      <th>City</th>\n",
       "      <th>Winner</th>\n",
       "      <th>Won_By</th>\n",
       "      <th>Player_of_the_Match</th>\n",
       "      <th>Match_Info</th>\n",
       "      <th>Toss</th>\n",
       "    </tr>\n",
       "  </thead>\n",
       "  <tbody>\n",
       "    <tr>\n",
       "      <th>0</th>\n",
       "      <td>0</td>\n",
       "      <td>1</td>\n",
       "      <td>ENGLAND v...</td>\n",
       "      <td>England</td>\n",
       "      <td>New zealand</td>\n",
       "      <td>Narendra ...</td>\n",
       "      <td>Ahmedabad</td>\n",
       "      <td>New Zealand</td>\n",
       "      <td>9 wkts</td>\n",
       "      <td>Rachin Ra...</td>\n",
       "      <td>https://w...</td>\n",
       "      <td>New Zealand</td>\n",
       "    </tr>\n",
       "    <tr>\n",
       "      <th>1</th>\n",
       "      <td>1</td>\n",
       "      <td>2</td>\n",
       "      <td>PAKISTAN ...</td>\n",
       "      <td>Pakistan</td>\n",
       "      <td>Netherlands</td>\n",
       "      <td>Rajiv Gan...</td>\n",
       "      <td>Hyderabad</td>\n",
       "      <td>Pakistan</td>\n",
       "      <td>81 runs</td>\n",
       "      <td>Saud Shakeel</td>\n",
       "      <td>https://w...</td>\n",
       "      <td>Netherlands</td>\n",
       "    </tr>\n",
       "    <tr>\n",
       "      <th>2</th>\n",
       "      <td>2</td>\n",
       "      <td>3</td>\n",
       "      <td>BANGLADES...</td>\n",
       "      <td>Bangladesh</td>\n",
       "      <td>Afghanistan</td>\n",
       "      <td>Himachal ...</td>\n",
       "      <td>Dharamsala</td>\n",
       "      <td>Bangladesh</td>\n",
       "      <td>6 wkts</td>\n",
       "      <td>Mehidy Ha...</td>\n",
       "      <td>https://w...</td>\n",
       "      <td>Bangladesh</td>\n",
       "    </tr>\n",
       "    <tr>\n",
       "      <th>3</th>\n",
       "      <td>3</td>\n",
       "      <td>4</td>\n",
       "      <td>SOUTH AFR...</td>\n",
       "      <td>South africa</td>\n",
       "      <td>Sri lanka</td>\n",
       "      <td>Arun Jait...</td>\n",
       "      <td>Delhi</td>\n",
       "      <td>South Africa</td>\n",
       "      <td>102 runs</td>\n",
       "      <td>Aiden Mar...</td>\n",
       "      <td>https://w...</td>\n",
       "      <td>Sri Lanka</td>\n",
       "    </tr>\n",
       "    <tr>\n",
       "      <th>4</th>\n",
       "      <td>4</td>\n",
       "      <td>5</td>\n",
       "      <td>INDIA vs ...</td>\n",
       "      <td>India</td>\n",
       "      <td>Australia</td>\n",
       "      <td>MA Chidam...</td>\n",
       "      <td>Chennai</td>\n",
       "      <td>India</td>\n",
       "      <td>6 wkts</td>\n",
       "      <td>KL Rahul</td>\n",
       "      <td>https://w...</td>\n",
       "      <td>Australia</td>\n",
       "    </tr>\n",
       "  </tbody>\n",
       "</table>\n",
       "</div>"
      ],
      "text/plain": [
       "   Unnamed: 0  Match_id         Match         Team1        Team2  \\\n",
       "0           0         1  ENGLAND v...       England  New zealand   \n",
       "1           1         2  PAKISTAN ...      Pakistan  Netherlands   \n",
       "2           2         3  BANGLADES...    Bangladesh  Afghanistan   \n",
       "3           3         4  SOUTH AFR...  South africa    Sri lanka   \n",
       "4           4         5  INDIA vs ...         India    Australia   \n",
       "\n",
       "          Venue        City        Winner    Won_By Player_of_the_Match  \\\n",
       "0  Narendra ...   Ahmedabad   New Zealand    9 wkts  Rachin Ra...         \n",
       "1  Rajiv Gan...   Hyderabad      Pakistan   81 runs  Saud Shakeel         \n",
       "2  Himachal ...  Dharamsala    Bangladesh    6 wkts  Mehidy Ha...         \n",
       "3  Arun Jait...       Delhi  South Africa  102 runs  Aiden Mar...         \n",
       "4  MA Chidam...     Chennai         India    6 wkts      KL Rahul         \n",
       "\n",
       "     Match_Info         Toss  \n",
       "0  https://w...  New Zealand  \n",
       "1  https://w...  Netherlands  \n",
       "2  https://w...   Bangladesh  \n",
       "3  https://w...    Sri Lanka  \n",
       "4  https://w...    Australia  "
      ]
     },
     "execution_count": 60,
     "metadata": {},
     "output_type": "execute_result"
    }
   ],
   "source": [
    "schedule_df = pd.read_csv(r\"D:/DA_projects/CWC2023/Data/schedule.csv\")\n",
    "\n",
    "schedule_df.head()"
   ]
  },
  {
   "cell_type": "markdown",
   "id": "2ab5b1bb-02ad-4d38-abd6-36658a285fb8",
   "metadata": {},
   "source": [
    "### Connection Checking"
   ]
  },
  {
   "cell_type": "code",
   "execution_count": 3,
   "id": "129d6afd-dd67-47d5-99da-88ec5e5dd0cf",
   "metadata": {},
   "outputs": [
    {
     "name": "stdout",
     "output_type": "stream",
     "text": [
      "Request granted for 48 Matches !\n"
     ]
    }
   ],
   "source": [
    "def url_check(urls):\n",
    "    '''\n",
    "    This Function Will Cross Check all match urls are working fine or not\n",
    "\n",
    "    Input : Each Match url\n",
    "    Ouput : HTTP Status Code 200 \n",
    "    '''\n",
    "    try:\n",
    "        cnt = 0 \n",
    "        for url_iterator in urls:\n",
    "            response = requests.get(url_iterator) \n",
    "            # status code checking \n",
    "            if response.status_code == 200: \n",
    "                cnt+=1\n",
    "            else:\n",
    "                # finding match string in url \n",
    "                start = sample.find('/',54) \n",
    "                match = sample[start+1:] \n",
    "                print(f\"Unable to access for this {match} Match\")\n",
    "                \n",
    "        return f'Request granted for {cnt} Matches !'\n",
    "        \n",
    "    except requests.exceptions.RequestException as e:\n",
    "        return f'Request error:, {e}'\n",
    "\n",
    "urls = schedule_df['Match_Info']\n",
    "print(url_check(urls))"
   ]
  },
  {
   "cell_type": "markdown",
   "id": "4278f89d-9cd6-4347-969d-49e1dea0d0d6",
   "metadata": {},
   "source": [
    "# All Matches one by one "
   ]
  },
  {
   "cell_type": "markdown",
   "id": "f66150f7-f08a-48db-bd21-3445c1e8b68d",
   "metadata": {},
   "source": [
    "### Each Match Data "
   ]
  },
  {
   "cell_type": "code",
   "execution_count": 11,
   "id": "5e8e5249-3d7a-476d-8942-d23996ae596c",
   "metadata": {},
   "outputs": [],
   "source": [
    "sample_data = ['England Innings 282-9 (50 Ov)   Batter  R B 4s 6s SR      Bairstow    c Daryl Mitchell b Santner  33 35 4 1 94.29        Malan    c Latham b Matt Henry  14 24 2 0 58.33        Root    b Glenn Phillips  77 86 4 1 89.53        Harry Brook    c Conway b Rachin Ravindra  25 16 4 1 156.25        Moeen    b Glenn Phillips  11 17 1 0 64.71        Jos Buttler (c & wk)    c Latham b Matt Henry  43 42 2 2 102.38        Livingstone    c Matt Henry b Boult  20 22 3 0 90.91        Sam Curran    c Latham b Matt Henry  14 19 0 0 73.68        Chris Woakes    c Will Young b Santner  11 12 1 0 91.67        Adil Rashid    not out  15 13 0 1 115.38        Mark Wood    not out  13 14 0 0 92.86      Extras  6  \\xa0(b 0, lb 0, w 6, nb 0, p 0)   Total  282   \\xa0(9 wkts, 50 Ov)',\n",
    " 'Bowler O M R W NB WD ECO     Boult   10 1 48 1 0 1 4.80        Matt Henry   10 1 48 3 0 0 4.80        Santner   10 0 37 2 0 1 3.70        Neesham   7 0 56 0 0 4 8.00        Rachin Ravindra   10 0 76 1 0 0 7.60        Glenn Phillips   3 0 17 2 0 0 5.70',\n",
    " 'Powerplays Overs Runs   Mandatory 0.1-10 51',\n",
    " 'New Zealand Innings 283-1 (36.2 Ov)   Batter  R B 4s 6s SR      Devon Conway    not out  152 121 19 3 125.62        Will Young    c Jos Buttler b Sam Curran  0 1 0 0 0.00        Rachin Ravindra    not out  123 96 11 5 128.12      Extras  8  \\xa0(b 4, lb 1, w 3, nb 0, p 0)   Total  283   \\xa0(1 wkts, 36.2 Ov)     Did not Bat   Daryl Mitchell , Tom Latham (c & wk) , Glenn Phillips , Mark Chapman , James Neesham , Mitchell Santner , Matt Henry , Trent Boult',\n",
    " 'Bowler O M R W NB WD ECO     Chris Woakes   6 0 45 0 0 0 7.50        Sam Curran   6 2 47 1 0 2 7.80        Mark Wood   5 0 55 0 0 1 11.00        Moeen Ali   9.2 0 60 0 0 0 6.40        Adil Rashid   7 0 47 0 0 0 6.70        Liam Livingstone   3 0 24 0 0 0 8.00',\n",
    " 'Powerplays Overs Runs   Mandatory 0.1-10 81']"
   ]
  },
  {
   "cell_type": "markdown",
   "id": "424c482d-32fd-4ee3-8bae-0a23db0cf608",
   "metadata": {},
   "source": [
    "## First Innings Batting"
   ]
  },
  {
   "cell_type": "code",
   "execution_count": 12,
   "id": "a93d561a",
   "metadata": {},
   "outputs": [
    {
     "data": {
      "text/plain": [
       "'England Innings 282-9 (50 Ov)   Batter  R B 4s 6s SR      Bairstow    c Daryl Mitchell b Santner  33 35 4 1 94.29        Malan    c Latham b Matt Henry  14 24 2 0 58.33        Root    b Glenn Phillips  77 86 4 1 89.53        Harry Brook    c Conway b Rachin Ravindra  25 16 4 1 156.25        Moeen    b Glenn Phillips  11 17 1 0 64.71        Jos Buttler (c & wk)    c Latham b Matt Henry  43 42 2 2 102.38        Livingstone    c Matt Henry b Boult  20 22 3 0 90.91        Sam Curran    c Latham b Matt Henry  14 19 0 0 73.68        Chris Woakes    c Will Young b Santner  11 12 1 0 91.67        Adil Rashid    not out  15 13 0 1 115.38        Mark Wood    not out  13 14 0 0 92.86      Extras  6  \\xa0(b 0, lb 0, w 6, nb 0, p 0)   Total  282   \\xa0(9 wkts, 50 Ov)'"
      ]
     },
     "execution_count": 12,
     "metadata": {},
     "output_type": "execute_result"
    }
   ],
   "source": [
    "sample_data[0]"
   ]
  },
  {
   "cell_type": "code",
   "execution_count": 62,
   "id": "c9bbea82-6858-4ac6-908b-d8384a4f39d7",
   "metadata": {},
   "outputs": [],
   "source": [
    "bat1 = []\n",
    "def first_innings_batting(first_innings_bat,match_number,opposite_team):\n",
    "    '''\n",
    "    This Function Will Extract 1st innings Batting\n",
    "    For Easy understanding See Sample Data for each match in Above Cell 🔝\n",
    "\n",
    "    Input : first_innings_batting,match_number,opposite_team_name\n",
    "    Output : Each player First Innings Batting 2D list \n",
    "    '''\n",
    "    # 1st Innings will starts after SR text\n",
    "    start = first_innings_bat.find('SR')       \n",
    "    # 1st Innings will ends before Extras text\n",
    "    end = first_innings_bat.find('Extras')    \n",
    "    # 1st Innings Team Name will present before I , 1 for India Eg: India in this case we will get 0 as Index\n",
    "    team_name = first_innings_bat.find('I',1)   \n",
    "    # Teamname Extraction                                                                                    \n",
    "    team = first_innings_bat[:team_name].strip()   \n",
    "    # Opposite Teamname \n",
    "    opp_team = opposite_team[:opposite_team.index('I',1)].strip()\n",
    "    # Actual Data\n",
    "    actual = first_innings_bat[start+2:end].strip()\n",
    "    # Same Length is between each attribute \n",
    "    for i in actual.split('        '):\n",
    "        bat1.append({'Match_id':match_number,\n",
    "                     'Batsman_stats':i,\n",
    "                     'Team':team,\n",
    "                     'Opposite_Team':opp_team,\n",
    "                    'Innings':'1'})"
   ]
  },
  {
   "cell_type": "markdown",
   "id": "66e388af-8834-42d5-a401-da1280957ba9",
   "metadata": {},
   "source": [
    "## First_Innings Bowling"
   ]
  },
  {
   "cell_type": "code",
   "execution_count": 63,
   "id": "a253e192",
   "metadata": {},
   "outputs": [
    {
     "data": {
      "text/plain": [
       "'Bowler O M R W NB WD ECO     Boult   10 1 48 1 0 1 4.80        Matt Henry   10 1 48 3 0 0 4.80        Santner   10 0 37 2 0 1 3.70        Neesham   7 0 56 0 0 4 8.00        Rachin Ravindra   10 0 76 1 0 0 7.60        Glenn Phillips   3 0 17 2 0 0 5.70'"
      ]
     },
     "execution_count": 63,
     "metadata": {},
     "output_type": "execute_result"
    }
   ],
   "source": [
    "sample_data[1]"
   ]
  },
  {
   "cell_type": "code",
   "execution_count": 64,
   "id": "5e11cb93-2d6c-4362-9c06-4c2458982f92",
   "metadata": {},
   "outputs": [],
   "source": [
    "bowl1 = []\n",
    "def first_innings_bowling(first_innings_bowl,sample,match_number,opposite_team):\n",
    "    '''\n",
    "    This Function Will Extract 1st innings Bowling Statistics \n",
    "    For Easy understanding See Sample Data for each match in Above Cell🔝\n",
    "    \n",
    "    Input : first_innings_bowl,match_number,opposite_team_name\n",
    "    Output : Each player First Innings Bowling 2D list\n",
    "    '''\n",
    "    # Bowler Name Starts After ECO text\n",
    "    start = first_innings_bowl.find('ECO') \n",
    "    # Teamname Extraction     \n",
    "    team_name = sample.find('I',1)\n",
    "    team = sample[:team_name].strip()\n",
    "    # Opposite Teamname \n",
    "    opp_team = opposite_team[:opposite_team.index('I',1)].strip()\n",
    "    # Actual Data\n",
    "    actual = first_innings_bowl[start+3:].strip()\n",
    "    for i in actual.split('        '):\n",
    "        bowl1.append({'Match_id':match_number,\n",
    "                      'Bowler_stats':i,\n",
    "                      'Team':team,\n",
    "                      'Opposite_Team':opp_team,\n",
    "                     'Innings':'1'})"
   ]
  },
  {
   "cell_type": "markdown",
   "id": "9d68e8c4-c83f-4b74-a1e9-421a6c4a07b1",
   "metadata": {},
   "source": [
    "# Second Innings Batting"
   ]
  },
  {
   "cell_type": "code",
   "execution_count": 65,
   "id": "f9386837",
   "metadata": {},
   "outputs": [
    {
     "data": {
      "text/plain": [
       "'New Zealand Innings 283-1 (36.2 Ov)   Batter  R B 4s 6s SR      Devon Conway    not out  152 121 19 3 125.62        Will Young    c Jos Buttler b Sam Curran  0 1 0 0 0.00        Rachin Ravindra    not out  123 96 11 5 128.12      Extras  8  \\xa0(b 4, lb 1, w 3, nb 0, p 0)   Total  283   \\xa0(1 wkts, 36.2 Ov)     Did not Bat   Daryl Mitchell , Tom Latham (c & wk) , Glenn Phillips , Mark Chapman , James Neesham , Mitchell Santner , Matt Henry , Trent Boult'"
      ]
     },
     "execution_count": 65,
     "metadata": {},
     "output_type": "execute_result"
    }
   ],
   "source": [
    "sample_data[3]"
   ]
  },
  {
   "cell_type": "code",
   "execution_count": 66,
   "id": "5c209e09-9c48-472d-889f-2f7a6953e1a1",
   "metadata": {},
   "outputs": [],
   "source": [
    "bat2 = []\n",
    "def second_innings_batting(second_innings_bat,match_number,opposite_team):\n",
    "    '''\n",
    "    This Function Will Extract 2nd innings Batting\n",
    "    For Easy understanding See Sample Data for each match in Above Cell🔝\n",
    "\n",
    "    Input : second_innings_batting,match_number,opposite_team_name\n",
    "    Output : Each player Second Innings Batting 2D list\n",
    "    '''\n",
    "    # 2nd Innings will starts after SR text\n",
    "    start = second_innings_bat.find('SR')       \n",
    "    # 2nd Innings will ends before Extras text\n",
    "    end = second_innings_bat.find('Extras')    \n",
    "    # 2nd Innings Team Name will present before I , 1 for India Eg: India in this case we will get 0 as Index\n",
    "    team_name = second_innings_bat.find('I',1)   \n",
    "    # Teamname Extraction                                                                                    \n",
    "    team = second_innings_bat[:team_name].strip()  \n",
    "    # Opposite Teamname \n",
    "    opp_team = opposite_team[:opposite_team.index('I',1)].strip()\n",
    "    # Actual Data\n",
    "    actual = second_innings_bat[start+2:end].strip()\n",
    "    # Same Length is between each attribute \n",
    "    for i in actual.split('        '):\n",
    "        bat2.append({'Match_id':match_number,\n",
    "                     'Batsman_stats':i,\n",
    "                     'Team':team,\n",
    "                     'Opposite_Team':opp_team,\n",
    "                    'Innings':'2'})\n"
   ]
  },
  {
   "cell_type": "markdown",
   "id": "b64b9d2c-34e0-40b4-b66f-99a3aaf60b8d",
   "metadata": {},
   "source": [
    "## Second Innings Bowling"
   ]
  },
  {
   "cell_type": "code",
   "execution_count": 67,
   "id": "0939cc00",
   "metadata": {},
   "outputs": [
    {
     "data": {
      "text/plain": [
       "'Bowler O M R W NB WD ECO     Chris Woakes   6 0 45 0 0 0 7.50        Sam Curran   6 2 47 1 0 2 7.80        Mark Wood   5 0 55 0 0 1 11.00        Moeen Ali   9.2 0 60 0 0 0 6.40        Adil Rashid   7 0 47 0 0 0 6.70        Liam Livingstone   3 0 24 0 0 0 8.00'"
      ]
     },
     "execution_count": 67,
     "metadata": {},
     "output_type": "execute_result"
    }
   ],
   "source": [
    "sample_data[4]"
   ]
  },
  {
   "cell_type": "code",
   "execution_count": 68,
   "id": "cd59c9c4-9244-4b6a-9e73-6b0868ae7d35",
   "metadata": {},
   "outputs": [],
   "source": [
    "bowl2 = []\n",
    "def second_innings_bowling(second_innings_bowl,sample,match_number,opposite_team):\n",
    "    '''\n",
    "    This Function Will Extract 2nd innings Bowling Statistics \n",
    "    For Easy understanding See Sample Data for each match in Above Cell🔝\n",
    "\n",
    "    Input : second_innings_batting,match_number,opposite_team_name\n",
    "    Output : Each player Second Innings Bowling 2D list\n",
    "    '''\n",
    "    # Bowler Name Starts After ECO text\n",
    "    start = second_innings_bowl.find('ECO') \n",
    "    # Teamname Extraction     \n",
    "    team_name = sample.find('I',1)\n",
    "    team = sample[:team_name].strip()\n",
    "     # Opposite Teamname \n",
    "    opp_team = opposite_team[:opposite_team.find('I',1)].strip()\n",
    "    # Actual Data\n",
    "    actual = second_innings_bowl[start+3:].strip()\n",
    "    for i in actual.split('        '):\n",
    "        bowl2.append({'Match_id':match_number,\n",
    "                      'Bowler_stats':i,\n",
    "                      'Team':team,\n",
    "                      'Opposite_Team':opp_team,\n",
    "                     'Innings':'2'})\n"
   ]
  },
  {
   "cell_type": "markdown",
   "id": "97b81eed-92f9-493f-8b55-4a53aabe7f09",
   "metadata": {},
   "source": [
    "### Note\n",
    "Cleaned_data_looks like this\n",
    "\n",
    "![Add Image](https:/)\n",
    "\n",
    "    - These cleaned Data have 6 parts\n",
    "    - 1st Innings Batting\n",
    "    - 1st Innings Bowling\n",
    "    - 1st Innings Powerplay\n",
    "    - 2nd Innings Batting\n",
    "    - 2nd Innings Bowling\n",
    "    - 2nd Innings Powerplay"
   ]
  },
  {
   "cell_type": "code",
   "execution_count": 69,
   "id": "c713fde0-afaa-4a1f-a2a0-442ec861a88e",
   "metadata": {},
   "outputs": [
    {
     "name": "stdout",
     "output_type": "stream",
     "text": [
      "1 Match Data Uploaded!\n",
      "2 Match Data Uploaded!\n",
      "3 Match Data Uploaded!\n",
      "4 Match Data Uploaded!\n",
      "5 Match Data Uploaded!\n",
      "6 Match Data Uploaded!\n",
      "7 Match Data Uploaded!\n",
      "8 Match Data Uploaded!\n",
      "9 Match Data Uploaded!\n",
      "10 Match Data Uploaded!\n",
      "11 Match Data Uploaded!\n",
      "12 Match Data Uploaded!\n",
      "13 Match Data Uploaded!\n",
      "14 Match Data Uploaded!\n",
      "15 Match Data Uploaded!\n",
      "16 Match Data Uploaded!\n",
      "17 Match Data Uploaded!\n",
      "18 Match Data Uploaded!\n",
      "19 Match Data Uploaded!\n",
      "20 Match Data Uploaded!\n",
      "21 Match Data Uploaded!\n",
      "22 Match Data Uploaded!\n",
      "23 Match Data Uploaded!\n",
      "24 Match Data Uploaded!\n",
      "25 Match Data Uploaded!\n",
      "26 Match Data Uploaded!\n",
      "27 Match Data Uploaded!\n",
      "28 Match Data Uploaded!\n",
      "29 Match Data Uploaded!\n",
      "30 Match Data Uploaded!\n",
      "31 Match Data Uploaded!\n",
      "32 Match Data Uploaded!\n",
      "33 Match Data Uploaded!\n",
      "34 Match Data Uploaded!\n",
      "35 Match Data Uploaded!\n",
      "36 Match Data Uploaded!\n",
      "37 Match Data Uploaded!\n",
      "38 Match Data Uploaded!\n",
      "39 Match Data Uploaded!\n",
      "40 Match Data Uploaded!\n",
      "41 Match Data Uploaded!\n",
      "42 Match Data Uploaded!\n",
      "43 Match Data Uploaded!\n",
      "44 Match Data Uploaded!\n",
      "45 Match Data Uploaded!\n",
      "46 Match Data Uploaded!\n",
      "47 Match Data Uploaded!\n",
      "48 Match Data Uploaded!\n"
     ]
    }
   ],
   "source": [
    "toss = []\n",
    "def give_me_soup(match_urls):\n",
    "    '''\n",
    "    This is the Main Function It Will pass the arguments to Each Innings from First Batting to Second Innings Bowling along wit toss\n",
    "    By Extracting Each match soup & Batting , Bowling Attributes\n",
    "    Input : Each Match Url\n",
    "    Output: Batting, Bowling, Toss Details of Eatch Match\n",
    "    '''\n",
    "    try:\n",
    "        cnt=0   # for Count & Match_id column\n",
    "        for sample in match_urls:\n",
    "            response = requests.get(sample)\n",
    "            if response.status_code == 200: # Status Code check for each match \n",
    "                cnt+=1\n",
    "\n",
    "                # Extraction\n",
    "                match_soup = BeautifulSoup(response.content,'html.parser')  # Html parsing \n",
    "                match_score = match_soup.find_all('div',attrs={'class':'cb-col cb-col-100 cb-ltst-wgt-hdr'}) # scorecard class\n",
    "                toss_txt = match_soup.find_all('div',attrs={'class':'cb-col cb-col-73'})[2].text # Toss Class\n",
    "                cleaned = [i.text.strip() for i in match_score]  # cleaned data for each match \n",
    "\n",
    "                \n",
    "                # Data Uploading & please have a look at above cell\n",
    "                first_innings_batting(cleaned[0],cnt,cleaned[3])         \n",
    "                first_innings_bowling(cleaned[1],cleaned[3],cnt,cleaned[0])\n",
    "                second_innings_batting(cleaned[3],cnt,cleaned[0])\n",
    "                second_innings_bowling(cleaned[4],cleaned[0],cnt,cleaned[3])\n",
    "\n",
    "                win_index = toss_txt.index('won')\n",
    "                toss.append(toss_txt[:win_index].strip())\n",
    "                print(f'{cnt} Match Data Uploaded!')\n",
    "                      \n",
    "            else:\n",
    "                start = sample.find('/',54)\n",
    "                match = sample[start+1:]\n",
    "                print(f\"Unable to access for this {match} Match\")\n",
    "                 \n",
    "        \n",
    "    except requests.exceptions.RequestException as e:\n",
    "        print(\"Request error:\", e)\n",
    "\n",
    "\n",
    "give_me_soup(urls)"
   ]
  },
  {
   "cell_type": "code",
   "execution_count": 70,
   "id": "6931bc3c-c9d4-462f-a8dd-67c4ecd41caa",
   "metadata": {},
   "outputs": [],
   "source": [
    "schedule_df['Toss'] = toss"
   ]
  },
  {
   "cell_type": "code",
   "execution_count": 71,
   "id": "fd24ea4c-875d-43e9-b929-809629836bb2",
   "metadata": {},
   "outputs": [
    {
     "data": {
      "text/plain": [
       "(48, 12)"
      ]
     },
     "execution_count": 71,
     "metadata": {},
     "output_type": "execute_result"
    }
   ],
   "source": [
    "schedule_df.shape"
   ]
  },
  {
   "cell_type": "code",
   "execution_count": 72,
   "id": "31f247d8-e868-4a63-879c-0b8dbfff8dd0",
   "metadata": {
    "scrolled": true
   },
   "outputs": [
    {
     "data": {
      "text/html": [
       "<div>\n",
       "<style scoped>\n",
       "    .dataframe tbody tr th:only-of-type {\n",
       "        vertical-align: middle;\n",
       "    }\n",
       "\n",
       "    .dataframe tbody tr th {\n",
       "        vertical-align: top;\n",
       "    }\n",
       "\n",
       "    .dataframe thead th {\n",
       "        text-align: right;\n",
       "    }\n",
       "</style>\n",
       "<table border=\"1\" class=\"dataframe\">\n",
       "  <thead>\n",
       "    <tr style=\"text-align: right;\">\n",
       "      <th></th>\n",
       "      <th>Unnamed: 0</th>\n",
       "      <th>Match_id</th>\n",
       "      <th>Match</th>\n",
       "      <th>Team1</th>\n",
       "      <th>Team2</th>\n",
       "      <th>Venue</th>\n",
       "      <th>City</th>\n",
       "      <th>Winner</th>\n",
       "      <th>Won_By</th>\n",
       "      <th>Player_of_the_Match</th>\n",
       "      <th>Match_Info</th>\n",
       "      <th>Toss</th>\n",
       "    </tr>\n",
       "  </thead>\n",
       "  <tbody>\n",
       "    <tr>\n",
       "      <th>0</th>\n",
       "      <td>0</td>\n",
       "      <td>1</td>\n",
       "      <td>ENGLAND v...</td>\n",
       "      <td>England</td>\n",
       "      <td>New zealand</td>\n",
       "      <td>Narendra ...</td>\n",
       "      <td>Ahmedabad</td>\n",
       "      <td>New Zealand</td>\n",
       "      <td>9 wkts</td>\n",
       "      <td>Rachin Ra...</td>\n",
       "      <td>https://w...</td>\n",
       "      <td>New Zealand</td>\n",
       "    </tr>\n",
       "    <tr>\n",
       "      <th>1</th>\n",
       "      <td>1</td>\n",
       "      <td>2</td>\n",
       "      <td>PAKISTAN ...</td>\n",
       "      <td>Pakistan</td>\n",
       "      <td>Netherlands</td>\n",
       "      <td>Rajiv Gan...</td>\n",
       "      <td>Hyderabad</td>\n",
       "      <td>Pakistan</td>\n",
       "      <td>81 runs</td>\n",
       "      <td>Saud Shakeel</td>\n",
       "      <td>https://w...</td>\n",
       "      <td>Netherlands</td>\n",
       "    </tr>\n",
       "    <tr>\n",
       "      <th>2</th>\n",
       "      <td>2</td>\n",
       "      <td>3</td>\n",
       "      <td>BANGLADES...</td>\n",
       "      <td>Bangladesh</td>\n",
       "      <td>Afghanistan</td>\n",
       "      <td>Himachal ...</td>\n",
       "      <td>Dharamsala</td>\n",
       "      <td>Bangladesh</td>\n",
       "      <td>6 wkts</td>\n",
       "      <td>Mehidy Ha...</td>\n",
       "      <td>https://w...</td>\n",
       "      <td>Bangladesh</td>\n",
       "    </tr>\n",
       "    <tr>\n",
       "      <th>3</th>\n",
       "      <td>3</td>\n",
       "      <td>4</td>\n",
       "      <td>SOUTH AFR...</td>\n",
       "      <td>South africa</td>\n",
       "      <td>Sri lanka</td>\n",
       "      <td>Arun Jait...</td>\n",
       "      <td>Delhi</td>\n",
       "      <td>South Africa</td>\n",
       "      <td>102 runs</td>\n",
       "      <td>Aiden Mar...</td>\n",
       "      <td>https://w...</td>\n",
       "      <td>Sri Lanka</td>\n",
       "    </tr>\n",
       "    <tr>\n",
       "      <th>4</th>\n",
       "      <td>4</td>\n",
       "      <td>5</td>\n",
       "      <td>INDIA vs ...</td>\n",
       "      <td>India</td>\n",
       "      <td>Australia</td>\n",
       "      <td>MA Chidam...</td>\n",
       "      <td>Chennai</td>\n",
       "      <td>India</td>\n",
       "      <td>6 wkts</td>\n",
       "      <td>KL Rahul</td>\n",
       "      <td>https://w...</td>\n",
       "      <td>Australia</td>\n",
       "    </tr>\n",
       "  </tbody>\n",
       "</table>\n",
       "</div>"
      ],
      "text/plain": [
       "   Unnamed: 0  Match_id         Match         Team1        Team2  \\\n",
       "0           0         1  ENGLAND v...       England  New zealand   \n",
       "1           1         2  PAKISTAN ...      Pakistan  Netherlands   \n",
       "2           2         3  BANGLADES...    Bangladesh  Afghanistan   \n",
       "3           3         4  SOUTH AFR...  South africa    Sri lanka   \n",
       "4           4         5  INDIA vs ...         India    Australia   \n",
       "\n",
       "          Venue        City        Winner    Won_By Player_of_the_Match  \\\n",
       "0  Narendra ...   Ahmedabad   New Zealand    9 wkts  Rachin Ra...         \n",
       "1  Rajiv Gan...   Hyderabad      Pakistan   81 runs  Saud Shakeel         \n",
       "2  Himachal ...  Dharamsala    Bangladesh    6 wkts  Mehidy Ha...         \n",
       "3  Arun Jait...       Delhi  South Africa  102 runs  Aiden Mar...         \n",
       "4  MA Chidam...     Chennai         India    6 wkts      KL Rahul         \n",
       "\n",
       "     Match_Info         Toss  \n",
       "0  https://w...  New Zealand  \n",
       "1  https://w...  Netherlands  \n",
       "2  https://w...   Bangladesh  \n",
       "3  https://w...    Sri Lanka  \n",
       "4  https://w...    Australia  "
      ]
     },
     "execution_count": 72,
     "metadata": {},
     "output_type": "execute_result"
    }
   ],
   "source": [
    "schedule_df.head()"
   ]
  },
  {
   "cell_type": "markdown",
   "id": "f879c673-4127-4c1a-8573-78f813e4067f",
   "metadata": {},
   "source": [
    "### Dataframes Creation"
   ]
  },
  {
   "cell_type": "code",
   "execution_count": 73,
   "id": "2a38c82c-3606-4b64-8b61-2aa3e69207f9",
   "metadata": {},
   "outputs": [],
   "source": [
    "bat_1_df = pd.DataFrame(bat1)\n",
    "bat_2_df = pd.DataFrame(bat2)\n",
    "bowl_1_df = pd.DataFrame(bowl1)\n",
    "bowl_2_df = pd.DataFrame(bowl2)"
   ]
  },
  {
   "cell_type": "code",
   "execution_count": 74,
   "id": "2c10ae83-67b5-4894-952e-864e99d609be",
   "metadata": {},
   "outputs": [
    {
     "data": {
      "text/html": [
       "<div>\n",
       "<style scoped>\n",
       "    .dataframe tbody tr th:only-of-type {\n",
       "        vertical-align: middle;\n",
       "    }\n",
       "\n",
       "    .dataframe tbody tr th {\n",
       "        vertical-align: top;\n",
       "    }\n",
       "\n",
       "    .dataframe thead th {\n",
       "        text-align: right;\n",
       "    }\n",
       "</style>\n",
       "<table border=\"1\" class=\"dataframe\">\n",
       "  <thead>\n",
       "    <tr style=\"text-align: right;\">\n",
       "      <th></th>\n",
       "      <th>Match_id</th>\n",
       "      <th>Batsman_stats</th>\n",
       "      <th>Team</th>\n",
       "      <th>Opposite_Team</th>\n",
       "      <th>Innings</th>\n",
       "    </tr>\n",
       "  </thead>\n",
       "  <tbody>\n",
       "    <tr>\n",
       "      <th>468</th>\n",
       "      <td>48</td>\n",
       "      <td>Suryakuma...</td>\n",
       "      <td>India</td>\n",
       "      <td>Australia</td>\n",
       "      <td>1</td>\n",
       "    </tr>\n",
       "    <tr>\n",
       "      <th>469</th>\n",
       "      <td>48</td>\n",
       "      <td>Shami    ...</td>\n",
       "      <td>India</td>\n",
       "      <td>Australia</td>\n",
       "      <td>1</td>\n",
       "    </tr>\n",
       "    <tr>\n",
       "      <th>470</th>\n",
       "      <td>48</td>\n",
       "      <td>Bumrah   ...</td>\n",
       "      <td>India</td>\n",
       "      <td>Australia</td>\n",
       "      <td>1</td>\n",
       "    </tr>\n",
       "    <tr>\n",
       "      <th>471</th>\n",
       "      <td>48</td>\n",
       "      <td>Kuldeep Y...</td>\n",
       "      <td>India</td>\n",
       "      <td>Australia</td>\n",
       "      <td>1</td>\n",
       "    </tr>\n",
       "    <tr>\n",
       "      <th>472</th>\n",
       "      <td>48</td>\n",
       "      <td>Siraj    ...</td>\n",
       "      <td>India</td>\n",
       "      <td>Australia</td>\n",
       "      <td>1</td>\n",
       "    </tr>\n",
       "  </tbody>\n",
       "</table>\n",
       "</div>"
      ],
      "text/plain": [
       "     Match_id Batsman_stats   Team Opposite_Team Innings\n",
       "468        48  Suryakuma...  India     Australia       1\n",
       "469        48  Shami    ...  India     Australia       1\n",
       "470        48  Bumrah   ...  India     Australia       1\n",
       "471        48  Kuldeep Y...  India     Australia       1\n",
       "472        48  Siraj    ...  India     Australia       1"
      ]
     },
     "execution_count": 74,
     "metadata": {},
     "output_type": "execute_result"
    }
   ],
   "source": [
    "bat_1_df.tail()"
   ]
  },
  {
   "cell_type": "code",
   "execution_count": 75,
   "id": "3512c6cc-2633-456e-b6db-cd9afceb9565",
   "metadata": {},
   "outputs": [
    {
     "data": {
      "text/html": [
       "<div>\n",
       "<style scoped>\n",
       "    .dataframe tbody tr th:only-of-type {\n",
       "        vertical-align: middle;\n",
       "    }\n",
       "\n",
       "    .dataframe tbody tr th {\n",
       "        vertical-align: top;\n",
       "    }\n",
       "\n",
       "    .dataframe thead th {\n",
       "        text-align: right;\n",
       "    }\n",
       "</style>\n",
       "<table border=\"1\" class=\"dataframe\">\n",
       "  <thead>\n",
       "    <tr style=\"text-align: right;\">\n",
       "      <th></th>\n",
       "      <th>Match_id</th>\n",
       "      <th>Batsman_stats</th>\n",
       "      <th>Team</th>\n",
       "      <th>Opposite_Team</th>\n",
       "      <th>Innings</th>\n",
       "    </tr>\n",
       "  </thead>\n",
       "  <tbody>\n",
       "    <tr>\n",
       "      <th>398</th>\n",
       "      <td>48</td>\n",
       "      <td>Travis He...</td>\n",
       "      <td>Australia</td>\n",
       "      <td>India</td>\n",
       "      <td>2</td>\n",
       "    </tr>\n",
       "    <tr>\n",
       "      <th>399</th>\n",
       "      <td>48</td>\n",
       "      <td>Mitchell ...</td>\n",
       "      <td>Australia</td>\n",
       "      <td>India</td>\n",
       "      <td>2</td>\n",
       "    </tr>\n",
       "    <tr>\n",
       "      <th>400</th>\n",
       "      <td>48</td>\n",
       "      <td>Steven Sm...</td>\n",
       "      <td>Australia</td>\n",
       "      <td>India</td>\n",
       "      <td>2</td>\n",
       "    </tr>\n",
       "    <tr>\n",
       "      <th>401</th>\n",
       "      <td>48</td>\n",
       "      <td>Marnus La...</td>\n",
       "      <td>Australia</td>\n",
       "      <td>India</td>\n",
       "      <td>2</td>\n",
       "    </tr>\n",
       "    <tr>\n",
       "      <th>402</th>\n",
       "      <td>48</td>\n",
       "      <td>Glenn Max...</td>\n",
       "      <td>Australia</td>\n",
       "      <td>India</td>\n",
       "      <td>2</td>\n",
       "    </tr>\n",
       "  </tbody>\n",
       "</table>\n",
       "</div>"
      ],
      "text/plain": [
       "     Match_id Batsman_stats       Team Opposite_Team Innings\n",
       "398        48  Travis He...  Australia         India       2\n",
       "399        48  Mitchell ...  Australia         India       2\n",
       "400        48  Steven Sm...  Australia         India       2\n",
       "401        48  Marnus La...  Australia         India       2\n",
       "402        48  Glenn Max...  Australia         India       2"
      ]
     },
     "execution_count": 75,
     "metadata": {},
     "output_type": "execute_result"
    }
   ],
   "source": [
    "bat_2_df.tail()"
   ]
  },
  {
   "cell_type": "code",
   "execution_count": 76,
   "id": "18432f7b-aa3b-41f7-8b51-4e8c983286c5",
   "metadata": {},
   "outputs": [
    {
     "data": {
      "text/html": [
       "<div>\n",
       "<style scoped>\n",
       "    .dataframe tbody tr th:only-of-type {\n",
       "        vertical-align: middle;\n",
       "    }\n",
       "\n",
       "    .dataframe tbody tr th {\n",
       "        vertical-align: top;\n",
       "    }\n",
       "\n",
       "    .dataframe thead th {\n",
       "        text-align: right;\n",
       "    }\n",
       "</style>\n",
       "<table border=\"1\" class=\"dataframe\">\n",
       "  <thead>\n",
       "    <tr style=\"text-align: right;\">\n",
       "      <th></th>\n",
       "      <th>Match_id</th>\n",
       "      <th>Bowler_stats</th>\n",
       "      <th>Team</th>\n",
       "      <th>Opposite_Team</th>\n",
       "      <th>Innings</th>\n",
       "    </tr>\n",
       "  </thead>\n",
       "  <tbody>\n",
       "    <tr>\n",
       "      <th>0</th>\n",
       "      <td>1</td>\n",
       "      <td>Chris Woa...</td>\n",
       "      <td>England</td>\n",
       "      <td>New Zealand</td>\n",
       "      <td>2</td>\n",
       "    </tr>\n",
       "    <tr>\n",
       "      <th>1</th>\n",
       "      <td>1</td>\n",
       "      <td>Sam Curra...</td>\n",
       "      <td>England</td>\n",
       "      <td>New Zealand</td>\n",
       "      <td>2</td>\n",
       "    </tr>\n",
       "    <tr>\n",
       "      <th>2</th>\n",
       "      <td>1</td>\n",
       "      <td>Mark Wood...</td>\n",
       "      <td>England</td>\n",
       "      <td>New Zealand</td>\n",
       "      <td>2</td>\n",
       "    </tr>\n",
       "    <tr>\n",
       "      <th>3</th>\n",
       "      <td>1</td>\n",
       "      <td>Moeen Ali...</td>\n",
       "      <td>England</td>\n",
       "      <td>New Zealand</td>\n",
       "      <td>2</td>\n",
       "    </tr>\n",
       "    <tr>\n",
       "      <th>4</th>\n",
       "      <td>1</td>\n",
       "      <td>Adil Rash...</td>\n",
       "      <td>England</td>\n",
       "      <td>New Zealand</td>\n",
       "      <td>2</td>\n",
       "    </tr>\n",
       "  </tbody>\n",
       "</table>\n",
       "</div>"
      ],
      "text/plain": [
       "   Match_id  Bowler_stats     Team Opposite_Team Innings\n",
       "0         1  Chris Woa...  England   New Zealand       2\n",
       "1         1  Sam Curra...  England   New Zealand       2\n",
       "2         1  Mark Wood...  England   New Zealand       2\n",
       "3         1  Moeen Ali...  England   New Zealand       2\n",
       "4         1  Adil Rash...  England   New Zealand       2"
      ]
     },
     "execution_count": 76,
     "metadata": {},
     "output_type": "execute_result"
    }
   ],
   "source": [
    "bowl_2_df.head()"
   ]
  },
  {
   "cell_type": "code",
   "execution_count": 77,
   "id": "ace18133-f449-4ab2-be19-2b605ce94c83",
   "metadata": {},
   "outputs": [
    {
     "data": {
      "text/html": [
       "<div>\n",
       "<style scoped>\n",
       "    .dataframe tbody tr th:only-of-type {\n",
       "        vertical-align: middle;\n",
       "    }\n",
       "\n",
       "    .dataframe tbody tr th {\n",
       "        vertical-align: top;\n",
       "    }\n",
       "\n",
       "    .dataframe thead th {\n",
       "        text-align: right;\n",
       "    }\n",
       "</style>\n",
       "<table border=\"1\" class=\"dataframe\">\n",
       "  <thead>\n",
       "    <tr style=\"text-align: right;\">\n",
       "      <th></th>\n",
       "      <th>Match_id</th>\n",
       "      <th>Bowler_stats</th>\n",
       "      <th>Team</th>\n",
       "      <th>Opposite_Team</th>\n",
       "      <th>Innings</th>\n",
       "    </tr>\n",
       "  </thead>\n",
       "  <tbody>\n",
       "    <tr>\n",
       "      <th>271</th>\n",
       "      <td>48</td>\n",
       "      <td>Jasprit B...</td>\n",
       "      <td>India</td>\n",
       "      <td>Australia</td>\n",
       "      <td>2</td>\n",
       "    </tr>\n",
       "    <tr>\n",
       "      <th>272</th>\n",
       "      <td>48</td>\n",
       "      <td>Mohammed ...</td>\n",
       "      <td>India</td>\n",
       "      <td>Australia</td>\n",
       "      <td>2</td>\n",
       "    </tr>\n",
       "    <tr>\n",
       "      <th>273</th>\n",
       "      <td>48</td>\n",
       "      <td>Ravindra ...</td>\n",
       "      <td>India</td>\n",
       "      <td>Australia</td>\n",
       "      <td>2</td>\n",
       "    </tr>\n",
       "    <tr>\n",
       "      <th>274</th>\n",
       "      <td>48</td>\n",
       "      <td>Kuldeep Y...</td>\n",
       "      <td>India</td>\n",
       "      <td>Australia</td>\n",
       "      <td>2</td>\n",
       "    </tr>\n",
       "    <tr>\n",
       "      <th>275</th>\n",
       "      <td>48</td>\n",
       "      <td>Mohammed ...</td>\n",
       "      <td>India</td>\n",
       "      <td>Australia</td>\n",
       "      <td>2</td>\n",
       "    </tr>\n",
       "  </tbody>\n",
       "</table>\n",
       "</div>"
      ],
      "text/plain": [
       "     Match_id  Bowler_stats   Team Opposite_Team Innings\n",
       "271        48  Jasprit B...  India     Australia       2\n",
       "272        48  Mohammed ...  India     Australia       2\n",
       "273        48  Ravindra ...  India     Australia       2\n",
       "274        48  Kuldeep Y...  India     Australia       2\n",
       "275        48  Mohammed ...  India     Australia       2"
      ]
     },
     "execution_count": 77,
     "metadata": {},
     "output_type": "execute_result"
    }
   ],
   "source": [
    "bowl_2_df.tail()\n"
   ]
  },
  {
   "cell_type": "code",
   "execution_count": 78,
   "id": "85dfb1cf-c3f4-4327-aee8-27f3b1dddf68",
   "metadata": {},
   "outputs": [
    {
     "data": {
      "text/plain": [
       "((473, 5), (403, 5))"
      ]
     },
     "execution_count": 78,
     "metadata": {},
     "output_type": "execute_result"
    }
   ],
   "source": [
    "bat_1_df.shape,bat_2_df.shape"
   ]
  },
  {
   "cell_type": "code",
   "execution_count": 79,
   "id": "2f6cc164-9774-4455-ac42-9818f66a5f27",
   "metadata": {},
   "outputs": [
    {
     "data": {
      "text/plain": [
       "((298, 5), (276, 5))"
      ]
     },
     "execution_count": 79,
     "metadata": {},
     "output_type": "execute_result"
    }
   ],
   "source": [
    "bowl_1_df.shape,bowl_2_df.shape"
   ]
  },
  {
   "cell_type": "code",
   "execution_count": 80,
   "id": "e53ff74e-5bb6-460c-96b1-5a8940fdacf3",
   "metadata": {},
   "outputs": [],
   "source": [
    "batting_df = pd.concat([bat_1_df,bat_2_df],axis=0)\n",
    "bowling_df = pd.concat([bowl_1_df,bowl_2_df],axis=0)"
   ]
  },
  {
   "cell_type": "code",
   "execution_count": 81,
   "id": "ede6adb7-4abf-4588-9cec-5918d5b7796b",
   "metadata": {},
   "outputs": [
    {
     "data": {
      "text/plain": [
       "((876, 5), (574, 5))"
      ]
     },
     "execution_count": 81,
     "metadata": {},
     "output_type": "execute_result"
    }
   ],
   "source": [
    "batting_df.shape,bowling_df.shape"
   ]
  },
  {
   "cell_type": "code",
   "execution_count": 84,
   "id": "abbf4cbe-4b49-4fd0-bdf1-6a658dbdb219",
   "metadata": {},
   "outputs": [],
   "source": [
    "# Exporting for Data Cleaning\n",
    "batting_df.to_csv('D:/DA_projects/CWC2023/Data/batting_df.csv', index=False)\n",
    "bowling_df.to_csv('D:/DA_projects/CWC2023/Data/bowling_df.csv', index=False)\n"
   ]
  },
  {
   "cell_type": "code",
   "execution_count": null,
   "id": "3b84229f",
   "metadata": {},
   "outputs": [],
   "source": []
  },
  {
   "cell_type": "code",
   "execution_count": null,
   "id": "ac4df028",
   "metadata": {},
   "outputs": [],
   "source": []
  }
 ],
 "metadata": {
  "kernelspec": {
   "display_name": "Python 3 (ipykernel)",
   "language": "python",
   "name": "python3"
  },
  "language_info": {
   "codemirror_mode": {
    "name": "ipython",
    "version": 3
   },
   "file_extension": ".py",
   "mimetype": "text/x-python",
   "name": "python",
   "nbconvert_exporter": "python",
   "pygments_lexer": "ipython3",
   "version": "3.10.9"
  }
 },
 "nbformat": 4,
 "nbformat_minor": 5
}
