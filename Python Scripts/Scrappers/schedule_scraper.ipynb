{
 "cells": [
  {
   "cell_type": "markdown",
   "id": "aafbf203-74dd-44dd-af20-1d7b4a111943",
   "metadata": {},
   "source": [
    "# CWC Schedule"
   ]
  },
  {
   "cell_type": "code",
   "execution_count": 2,
   "id": "12ce52ba-4db8-420e-b46f-9c75ec0208f5",
   "metadata": {},
   "outputs": [],
   "source": [
    "# Libraries\n",
    "from bs4 import BeautifulSoup\n",
    "import requests\n",
    "import pandas as pd\n",
    "import numpy as np"
   ]
  },
  {
   "cell_type": "code",
   "execution_count": 3,
   "id": "5d06afd2-e7ed-4dfe-99a4-d1972dff34b8",
   "metadata": {},
   "outputs": [],
   "source": [
    "# Page Url\n",
    "url = 'https://www.cricbuzz.com/cricket-series/6732/icc-cricket-world-cup-2023/matches'"
   ]
  },
  {
   "cell_type": "code",
   "execution_count": 4,
   "id": "73139ab6-bc54-42ea-92b4-2ce597815ca4",
   "metadata": {},
   "outputs": [
    {
     "data": {
      "text/plain": [
       "<Response [200]>"
      ]
     },
     "execution_count": 4,
     "metadata": {},
     "output_type": "execute_result"
    }
   ],
   "source": [
    "webpage = requests.get(url)\n",
    "webpage # Response should be 200"
   ]
  },
  {
   "cell_type": "markdown",
   "id": "e3adce6e-5d84-4865-b2de-753e74a4b81e",
   "metadata": {},
   "source": [
    "### MainPage Soup"
   ]
  },
  {
   "cell_type": "code",
   "execution_count": 5,
   "id": "9aac0424-fc63-46f6-968d-d4e4a748a8ec",
   "metadata": {
    "scrolled": true
   },
   "outputs": [
    {
     "name": "stdout",
     "output_type": "stream",
     "text": [
      "Webpage Content : \n",
      "b'\\r\\n\\r\\n<!DOCTYPE html><html lang=\"en\" itemscope itemtype=\"http://schema.org/WebPage\"><head><meta charset=\"utf-8\"><script>var is_mobile = /symbian|tizen|midp|uc(web|browser)|MSIE (5.0|6.0|7.0|8.0)|tablet/i.test(navigator.userAgent);\\tif(is_mobile && window.location.hostname != \"www1.cricbuzz.com\") window.location.hostname = \"m.cricbuzz.com\";</script><style>html{scroll-behavior: smooth;}\\tbody{background' \n",
      "\n",
      " Type : <class 'bytes'>\n"
     ]
    }
   ],
   "source": [
    "# Whole Webpage Content of main page (HTML+CSS+JS)\n",
    "print(f'Webpage Content : \\n{webpage.content[:400]} \\n\\n Type : {type(webpage.content)}')"
   ]
  },
  {
   "cell_type": "markdown",
   "id": "ed20cece-b745-4c62-be1a-4fd8a722e10a",
   "metadata": {},
   "source": [
    "### Html parsing\n"
   ]
  },
  {
   "cell_type": "code",
   "execution_count": 6,
   "id": "3719eeaa-18a3-4849-9e52-628298ed6738",
   "metadata": {
    "scrolled": true
   },
   "outputs": [
    {
     "data": {
      "text/plain": [
       "'\\n ICC Cricket World Cup 2023 schedule, live scores and results | Cricbuzz.com  ✖Live ScoresScheduleArchivesNewsAll Stories  Premium Editorials Latest NewsTopicsSpotlightOpinionsSpecialsStats & AnalysisInterviewsLive BlogsHarsha BhogleSeries  Indian Premier League 2024 ICC Mens T20 World Cup 2024 Womens Premier League 2024 New Zealand tour of Pakistan, 2024 Sri Lanka tour of Bangladesh, 2024 Bangla'"
      ]
     },
     "execution_count": 6,
     "metadata": {},
     "output_type": "execute_result"
    }
   ],
   "source": [
    "main_soup = BeautifulSoup(webpage.content,'html.parser') # to html \n",
    "main_soup.text[:400] # First 00 characters in soup "
   ]
  },
  {
   "cell_type": "markdown",
   "id": "83694e3c-e1ff-469a-a0e6-ed746cce7236",
   "metadata": {},
   "source": [
    "### Separate Links Extraction"
   ]
  },
  {
   "cell_type": "code",
   "execution_count": 7,
   "id": "a4becec8-6a7c-49d7-8e0c-ce823fbc9dac",
   "metadata": {},
   "outputs": [
    {
     "name": "stdout",
     "output_type": "stream",
     "text": [
      "Match Details \n",
      " : [<a class=\"text-hvr-underline\" href=\"/cricket-scores/75413/eng-vs-nz-1st-match-icc-cricket-world-cup-2023\" title=\"ENGLAND vs NEW ZEALAND Live Cricket Score and ball by ball commentary\"><span>ENGLAND vs NEW ZEALAND, 1st Match</span></a>, <a class=\"text-hvr-underline\" href=\"/cricket-scores/75420/pak-vs-ned-2nd-match-icc-cricket-world-cup-2023\" title=\"PAKISTAN vs NETHERLANDS Live Cricket Score and ball by ball commentary\"><span>PAKISTAN vs NETHERLANDS, 2nd Match</span></a>, <a class=\"text-hvr-underline\" href=\"/cricket-scores/75427/ban-vs-afg-3rd-match-icc-cricket-world-cup-2023\" title=\"BANGLADESH vs AFGHANISTAN Live Cricket Score and ball by ball commentary\"><span>BANGLADESH vs AFGHANISTAN, 3rd Match</span></a>]\n",
      "\n",
      "Venue Details \n",
      " : [<div class=\"text-gray\"> <span> 48 ODIs </span> <span class=\"cb-nav-dt\"> . </span> <span>Oct 05</span> <span> - Nov 19</span> </div>, <div class=\"text-gray\">Narendra Modi Stadium, Ahmedabad</div>, <div class=\"cb-font-12 text-gray\"><span>08:30 AM </span>GMT\t/<span> 02:00 PM</span> LOCAL</div>]\n",
      "\n",
      "Winner  Details \n",
      " : [<a class=\"cb-text-complete\" href=\"/cricket-scores/75413/eng-vs-nz-1st-match-icc-cricket-world-cup-2023\">New Zealand won by 9 wkts</a>, <a class=\"cb-text-complete\" href=\"/cricket-scores/75420/pak-vs-ned-2nd-match-icc-cricket-world-cup-2023\">Pakistan won by 81 runs</a>, <a class=\"cb-text-complete\" href=\"/cricket-scores/75427/ban-vs-afg-3rd-match-icc-cricket-world-cup-2023\">Bangladesh won by 6 wkts</a>]\n",
      "\n"
     ]
    }
   ],
   "source": [
    "match_links = main_soup.find_all('a',attrs={'class':'text-hvr-underline'})\n",
    "venue_links = main_soup.find_all('div',attrs={'class':'text-gray'}) \n",
    "winner = main_soup.find_all('a',attrs={'class':'cb-text-complete'})\n",
    "\n",
    "#CrossCheck\n",
    "print(f'Match Details \\n : {match_links[:3]}\\n')\n",
    "print(f'Venue Details \\n : {venue_links[:3]}\\n')\n",
    "print(f'Winner  Details \\n : {winner[:3]}\\n')"
   ]
  },
  {
   "cell_type": "code",
   "execution_count": 8,
   "id": "5c30dc80-ec80-41b1-8210-188ec69da385",
   "metadata": {},
   "outputs": [
    {
     "name": "stdout",
     "output_type": "stream",
     "text": [
      "match_links : 48\n",
      "venue_links : 96\n"
     ]
    }
   ],
   "source": [
    "### Corrections \n",
    "match_links = match_links[:48]\n",
    "venue_links = venue_links[1:] #1st line don't have venue details 👇\n",
    "print(f'match_links : {len(match_links)}')\n",
    "print(f'venue_links : {len(venue_links)}')"
   ]
  },
  {
   "cell_type": "markdown",
   "id": "3b6e0992-9cd2-43fb-88b6-a67747e8c1bb",
   "metadata": {},
   "source": [
    "### Match_Schedule Extraction "
   ]
  },
  {
   "cell_type": "code",
   "execution_count": 9,
   "id": "f2293bb8-c116-4699-ad1d-52b1344db41b",
   "metadata": {},
   "outputs": [
    {
     "data": {
      "text/plain": [
       "<a class=\"text-hvr-underline\" href=\"/cricket-scores/75465/aus-vs-rsa-10th-match-icc-cricket-world-cup-2023\" title=\"AUSTRALIA vs SOUTH AFRICA Live Cricket Score and ball by ball commentary\"><span>AUSTRALIA vs SOUTH AFRICA, 10th Match</span></a>"
      ]
     },
     "execution_count": 9,
     "metadata": {},
     "output_type": "execute_result"
    }
   ],
   "source": [
    "match_links[9]"
   ]
  },
  {
   "cell_type": "code",
   "execution_count": 10,
   "id": "03f793e1-650b-4e84-80a7-d081dac9add3",
   "metadata": {},
   "outputs": [
    {
     "name": "stdout",
     "output_type": "stream",
     "text": [
      "Match Details : ['ENGLAND vs NEW ZEALAND', 'PAKISTAN vs NETHERLANDS', 'BANGLADESH vs AFGHANISTAN'] 48\n",
      "Team_1 Names : ['England', 'Pakistan', 'Bangladesh'] 48\n",
      "Team_2 Names : ['New zealand', 'Netherlands', 'Afghanistan']48\n"
     ]
    }
   ],
   "source": [
    "match_List = []\n",
    "team_1_List = []\n",
    "team_2_List = []\n",
    "def match_schedule(match_links):\n",
    "    '''\n",
    "    This Function will Extract Match Details from Each Matchlinks\n",
    "    Such as Match Fixture and Team Names\n",
    "    \n",
    "    Input : Match_links in HTML Format\n",
    "    Output : Match_Schedule in separate list \n",
    "\n",
    "    Sample Input : 'ENGLAND vs NEW ZEALAND, 1st Match'\n",
    "    '''\n",
    "    # For Easy Understanding please see above Input\n",
    "    for i in match_links:\n",
    "        row = i.text # Extracting only text from HTML  \n",
    "        \n",
    "        first = row.index('v') # First Team Name will come before v in \"VS\"   \n",
    "        start = row.find('s') #  Second Team Name will come after s in \"VS\"\n",
    "        coma = row.find(',')  # This is placeholder for each match fixture \n",
    "        \n",
    "        only_match = row.split(',')[0] # Every Match detail \n",
    "        team_1 = row[:first].strip().capitalize() # Removing spaces & Capitalizing \n",
    "        team_2 = row[start+1:coma].strip().capitalize() \n",
    "    \n",
    "        match_List.append(only_match) \n",
    "        team_1_List.append(team_1)\n",
    "        team_2_List.append(team_2)\n",
    "        \n",
    "    # Cross Check\n",
    "    print(f'Match Details : {match_List[:3]} {len(match_List)}')\n",
    "    print(f'Team_1 Names : {team_1_List[:3]} {len(match_List)}')\n",
    "    print(f'Team_2 Names : {team_2_List[:3]}{len(match_List)}')\n",
    "\n",
    "match_schedule(match_links)"
   ]
  },
  {
   "cell_type": "markdown",
   "id": "82e32e2e-c94b-4039-ad5d-b15bb3a3007a",
   "metadata": {},
   "source": [
    "### Venue & City Extraction"
   ]
  },
  {
   "cell_type": "code",
   "execution_count": 11,
   "id": "341229b9-6018-478e-af99-2e0139827978",
   "metadata": {},
   "outputs": [
    {
     "data": {
      "text/plain": [
       "([<div class=\"text-gray\">Narendra Modi Stadium, Ahmedabad</div>,\n",
       "  <div class=\"cb-font-12 text-gray\"><span>08:30 AM </span>GMT\t/<span> 02:00 PM</span> LOCAL</div>,\n",
       "  <div class=\"text-gray\">Rajiv Gandhi International Stadium, Hyderabad</div>,\n",
       "  <div class=\"cb-font-12 text-gray\"><span>08:30 AM </span>GMT\t/<span> 02:00 PM</span> LOCAL</div>],\n",
       " 96)"
      ]
     },
     "execution_count": 11,
     "metadata": {},
     "output_type": "execute_result"
    }
   ],
   "source": [
    "venue_links[:4],len(venue_links)"
   ]
  },
  {
   "cell_type": "markdown",
   "id": "57c60a85-81bb-4acb-9217-da7377f0d611",
   "metadata": {
    "scrolled": true
   },
   "source": [
    "#### Note ⚠️\n",
    "- Observe Length of venue_links it is having 96 but we have only 48 matches so divide it by 2 slow slow wait🫷\n",
    "- 1st element has Venue & City Name\n",
    "- 2nd Element don't have any details we are going to skip consecutive 1 element by using for loop\n"
   ]
  },
  {
   "cell_type": "code",
   "execution_count": 12,
   "id": "b6d60573-5dd0-457c-a344-5f9d66a72775",
   "metadata": {},
   "outputs": [
    {
     "name": "stdout",
     "output_type": "stream",
     "text": [
      "Venue Details : ['Narendra Modi Stadium', 'Rajiv Gandhi International Stadium', 'Himachal Pradesh Cricket Association Stadium'] 48\n",
      "City Details : ['Ahmedabad', 'Hyderabad', 'Dharamsala'] 48\n"
     ]
    }
   ],
   "source": [
    "Venue = []\n",
    "City = []\n",
    "def venue_city(venue_links):\n",
    "    '''\n",
    "    This Function will Extract the Venue & City Names from Venu_links \n",
    "    Input : Venue HTML tag\n",
    "    Output : Venue & City in Separate list(s)\n",
    "    \n",
    "    \n",
    "    Sample Input : 'Narendra Modi Stadium, Ahmedabad'\n",
    "    '''\n",
    "\n",
    "    # For Easy Understanding please see above Input\n",
    "    for i in range(0,len(venue_links),2): # please see above note \n",
    "        venue_city = venue_links[i].text  # Venue_City Extraction\n",
    "        venue = venue_city.split(',')[0].strip() # Venue Extraction\n",
    "        city = venue_city.split(',')[1].strip()  # City Extraction\n",
    "        \n",
    "        Venue.append(venue)\n",
    "        City.append(city)\n",
    "\n",
    "    \n",
    "    # Crosscheck\n",
    "    print(f'Venue Details : {Venue[:3]} {len(Venue)}')\n",
    "    print(f'City Details : {City[:3]} {len(City)}')\n",
    "\n",
    "venue_city(venue_links)"
   ]
  },
  {
   "cell_type": "markdown",
   "id": "12e62f32-9491-4a7e-849a-471f644bdb8a",
   "metadata": {},
   "source": [
    "### Winner & Match Info"
   ]
  },
  {
   "cell_type": "code",
   "execution_count": 13,
   "id": "654744e3-bb09-4e93-ab26-31e9e97b80a8",
   "metadata": {},
   "outputs": [],
   "source": [
    "def player_of_the_match_extraction(url):\n",
    "    '''\n",
    "    This Function will return the POTM (Player of the Match) for Each Match \n",
    "    Input : Each Match url \n",
    "    Output : POTM Name\n",
    "\n",
    "    Sample Input : \n",
    "    '''\n",
    "    \n",
    "    \n",
    "    potm_soup = requests.get(url)\n",
    "    potm_soup_html = BeautifulSoup(potm_soup.content,'html.parser')\n",
    "    potm_soup_html_obj = potm_soup_html.find_all('a',attrs={'class':'cb-link-undrln'}) #POTM Class\n",
    "    player = BeautifulSoup(str(potm_soup_html_obj), 'html.parser')\n",
    "    \n",
    "    return player.a.get_text()"
   ]
  },
  {
   "cell_type": "code",
   "execution_count": 14,
   "id": "45c07c83-eeb6-4aed-a785-4c0e2f75e116",
   "metadata": {},
   "outputs": [
    {
     "data": {
      "text/plain": [
       "'South Africa won by 134 runs'"
      ]
     },
     "execution_count": 14,
     "metadata": {},
     "output_type": "execute_result"
    }
   ],
   "source": [
    "winner[9].text"
   ]
  },
  {
   "cell_type": "code",
   "execution_count": 15,
   "id": "31e565dd-b92b-4a80-98c6-12c49416d486",
   "metadata": {},
   "outputs": [
    {
     "name": "stdout",
     "output_type": "stream",
     "text": [
      "Win_Types  : ['9 wkts', '81 runs', '6 wkts'] 48 \n",
      "\n",
      "Winning_Team  : ['New Zealand', 'Pakistan', 'Bangladesh'] 48 \n",
      "\n",
      "Match_Info urls  : ['https://www.cricbuzz.com/live-cricket-scorecard/75413/eng-vs-nz-1st-match-icc-cricket-world-cup-2023', 'https://www.cricbuzz.com/live-cricket-scorecard/75420/pak-vs-ned-2nd-match-icc-cricket-world-cup-2023', 'https://www.cricbuzz.com/live-cricket-scorecard/75427/ban-vs-afg-3rd-match-icc-cricket-world-cup-2023'] 48 \n",
      " \n",
      "Player_of_Matches  : ['Rachin Ravindra', 'Saud Shakeel', 'Mehidy Hasan Miraz'] 48\n",
      "\n"
     ]
    }
   ],
   "source": [
    "Winner_Team = []\n",
    "Info =[]\n",
    "Win_Type = []\n",
    "Player_of_Match = []\n",
    "def winner_team(winner):\n",
    "    '''\n",
    "    This Function will extract Match Information from Winner tag\n",
    "    Such as Winner_Team,\n",
    "            Match_Info (url for Full Details of Each Match)\n",
    "            Player of the Match\n",
    "\n",
    "    Sample Input : <a class=\"cb-text-complete\" href=\"/cricket-scores/75465/aus-vs-rsa-10th-match-icc-cricket-world-cup-2023\">South Africa won by 134 runs</a>\n",
    "    '''\n",
    "    \n",
    "    for winner_team in winner:\n",
    "        \n",
    "        wn_txt = winner_team.text # Text Extraction from HTML\n",
    "        \n",
    "        # urls extraction \n",
    "        url = winner_team.get('href')  # url Extraction \n",
    "        \n",
    "        # POTM Match url : generc cricbuzz url + Each match url\n",
    "        player_of_match_url = 'https://www.cricbuzz.com/'+url \n",
    "\n",
    "        # Scoreboard Url : Scoreboard generic url + Each Match url \n",
    "        match_url = 'https://www.cricbuzz.com/live-cricket-scorecard'+ url[15:]\n",
    "\n",
    "        # Eg : 'South Africa won by 134 runs'\n",
    "        # won Attributes \n",
    "        win_index = wn_txt.index('won') # Index of w for Extaction of Winner Team Name \n",
    "        team = wn_txt[:win_index].strip() \n",
    "        won_type = wn_txt[wn_txt.find('by')+2:].strip() # Index of w for Extaction of Won Type\n",
    "        player = player_of_the_match_extraction(player_of_match_url) # Extraction of POTM Name \n",
    "\n",
    "        # Exporting\n",
    "        Win_Type.append(won_type)\n",
    "        Winner_Team.append(team)\n",
    "        Info.append(match_url)\n",
    "        Player_of_Match.append(player)\n",
    "\n",
    "\n",
    "    # Crosscheck\n",
    "    print(f'Win_Types  : {Win_Type[:3]} {len(Win_Type)} \\n')\n",
    "    print(f'Winning_Team  : {Winner_Team[:3]} {len(Winner_Team)} \\n')\n",
    "    print(f'Match_Info urls  : {Info[:3]} {len(Info)} \\n ')\n",
    "    print(f'Player_of_Matches  : {Player_of_Match[:3]} {len(Player_of_Match)}\\n')\n",
    "        \n",
    "winner_team(winner)"
   ]
  },
  {
   "cell_type": "markdown",
   "id": "410659ec-8058-42ec-a3aa-1afb0ab0171d",
   "metadata": {},
   "source": [
    "### Final Df"
   ]
  },
  {
   "cell_type": "code",
   "execution_count": 16,
   "id": "89ac78c8-c778-456a-a3de-829be5e5030a",
   "metadata": {},
   "outputs": [],
   "source": [
    "df = pd.DataFrame(\n",
    "        {'Match':match_List,\n",
    "         'Team1':team_1_List,\n",
    "         'Team2':team_2_List,\n",
    "         'Venue':Venue,\n",
    "         'City':City,\n",
    "         'Winner':Winner_Team,\n",
    "         'Won_By':Win_Type,\n",
    "         'Player_of_the_Match':Player_of_Match,\n",
    "         'Match_Info':Info\n",
    "        })\n",
    "pd.set_option('display.max_colwidth', None) #for Full View"
   ]
  },
  {
   "cell_type": "code",
   "execution_count": 18,
   "id": "7d404a92-8e86-4005-a455-89124144f1f2",
   "metadata": {},
   "outputs": [],
   "source": [
    "match_nums = list(range(1,49))\n",
    "df['Match_id'] = match_nums \n",
    "\n",
    "df.set_index('Match_id',inplace=True) #Setting Match_id for future purpose \n",
    "df.reset_index(inplace=True)"
   ]
  },
  {
   "cell_type": "code",
   "execution_count": 19,
   "id": "820de6ca-7e95-42db-80d9-8dbf713ae5e2",
   "metadata": {
    "scrolled": true
   },
   "outputs": [
    {
     "data": {
      "text/html": [
       "<div>\n",
       "<style scoped>\n",
       "    .dataframe tbody tr th:only-of-type {\n",
       "        vertical-align: middle;\n",
       "    }\n",
       "\n",
       "    .dataframe tbody tr th {\n",
       "        vertical-align: top;\n",
       "    }\n",
       "\n",
       "    .dataframe thead th {\n",
       "        text-align: right;\n",
       "    }\n",
       "</style>\n",
       "<table border=\"1\" class=\"dataframe\">\n",
       "  <thead>\n",
       "    <tr style=\"text-align: right;\">\n",
       "      <th></th>\n",
       "      <th>Match_id</th>\n",
       "      <th>Match</th>\n",
       "      <th>Team1</th>\n",
       "      <th>Team2</th>\n",
       "      <th>Venue</th>\n",
       "      <th>City</th>\n",
       "      <th>Winner</th>\n",
       "      <th>Won_By</th>\n",
       "      <th>Player_of_the_Match</th>\n",
       "      <th>Match_Info</th>\n",
       "    </tr>\n",
       "  </thead>\n",
       "  <tbody>\n",
       "    <tr>\n",
       "      <th>0</th>\n",
       "      <td>1</td>\n",
       "      <td>ENGLAND vs NEW ZEALAND</td>\n",
       "      <td>England</td>\n",
       "      <td>New zealand</td>\n",
       "      <td>Narendra Modi Stadium</td>\n",
       "      <td>Ahmedabad</td>\n",
       "      <td>New Zealand</td>\n",
       "      <td>9 wkts</td>\n",
       "      <td>Rachin Ravindra</td>\n",
       "      <td>https://www.cricbuzz.com/live-cricket-scorecard/75413/eng-vs-nz-1st-match-icc-cricket-world-cup-2023</td>\n",
       "    </tr>\n",
       "    <tr>\n",
       "      <th>1</th>\n",
       "      <td>2</td>\n",
       "      <td>PAKISTAN vs NETHERLANDS</td>\n",
       "      <td>Pakistan</td>\n",
       "      <td>Netherlands</td>\n",
       "      <td>Rajiv Gandhi International Stadium</td>\n",
       "      <td>Hyderabad</td>\n",
       "      <td>Pakistan</td>\n",
       "      <td>81 runs</td>\n",
       "      <td>Saud Shakeel</td>\n",
       "      <td>https://www.cricbuzz.com/live-cricket-scorecard/75420/pak-vs-ned-2nd-match-icc-cricket-world-cup-2023</td>\n",
       "    </tr>\n",
       "    <tr>\n",
       "      <th>2</th>\n",
       "      <td>3</td>\n",
       "      <td>BANGLADESH vs AFGHANISTAN</td>\n",
       "      <td>Bangladesh</td>\n",
       "      <td>Afghanistan</td>\n",
       "      <td>Himachal Pradesh Cricket Association Stadium</td>\n",
       "      <td>Dharamsala</td>\n",
       "      <td>Bangladesh</td>\n",
       "      <td>6 wkts</td>\n",
       "      <td>Mehidy Hasan Miraz</td>\n",
       "      <td>https://www.cricbuzz.com/live-cricket-scorecard/75427/ban-vs-afg-3rd-match-icc-cricket-world-cup-2023</td>\n",
       "    </tr>\n",
       "    <tr>\n",
       "      <th>3</th>\n",
       "      <td>4</td>\n",
       "      <td>SOUTH AFRICA vs SRI LANKA</td>\n",
       "      <td>South africa</td>\n",
       "      <td>Sri lanka</td>\n",
       "      <td>Arun Jaitley Stadium</td>\n",
       "      <td>Delhi</td>\n",
       "      <td>South Africa</td>\n",
       "      <td>102 runs</td>\n",
       "      <td>Aiden Markram</td>\n",
       "      <td>https://www.cricbuzz.com/live-cricket-scorecard/75434/rsa-vs-sl-4th-match-icc-cricket-world-cup-2023</td>\n",
       "    </tr>\n",
       "    <tr>\n",
       "      <th>4</th>\n",
       "      <td>5</td>\n",
       "      <td>INDIA vs AUSTRALIA</td>\n",
       "      <td>India</td>\n",
       "      <td>Australia</td>\n",
       "      <td>MA Chidambaram Stadium</td>\n",
       "      <td>Chennai</td>\n",
       "      <td>India</td>\n",
       "      <td>6 wkts</td>\n",
       "      <td>KL Rahul</td>\n",
       "      <td>https://www.cricbuzz.com/live-cricket-scorecard/75437/ind-vs-aus-5th-match-icc-cricket-world-cup-2023</td>\n",
       "    </tr>\n",
       "  </tbody>\n",
       "</table>\n",
       "</div>"
      ],
      "text/plain": [
       "   Match_id                      Match         Team1        Team2  \\\n",
       "0         1     ENGLAND vs NEW ZEALAND       England  New zealand   \n",
       "1         2    PAKISTAN vs NETHERLANDS      Pakistan  Netherlands   \n",
       "2         3  BANGLADESH vs AFGHANISTAN    Bangladesh  Afghanistan   \n",
       "3         4  SOUTH AFRICA vs SRI LANKA  South africa    Sri lanka   \n",
       "4         5         INDIA vs AUSTRALIA         India    Australia   \n",
       "\n",
       "                                          Venue        City        Winner  \\\n",
       "0                         Narendra Modi Stadium   Ahmedabad   New Zealand   \n",
       "1            Rajiv Gandhi International Stadium   Hyderabad      Pakistan   \n",
       "2  Himachal Pradesh Cricket Association Stadium  Dharamsala    Bangladesh   \n",
       "3                          Arun Jaitley Stadium       Delhi  South Africa   \n",
       "4                        MA Chidambaram Stadium     Chennai         India   \n",
       "\n",
       "     Won_By Player_of_the_Match  \\\n",
       "0    9 wkts     Rachin Ravindra   \n",
       "1   81 runs        Saud Shakeel   \n",
       "2    6 wkts  Mehidy Hasan Miraz   \n",
       "3  102 runs       Aiden Markram   \n",
       "4    6 wkts            KL Rahul   \n",
       "\n",
       "                                                                                              Match_Info  \n",
       "0   https://www.cricbuzz.com/live-cricket-scorecard/75413/eng-vs-nz-1st-match-icc-cricket-world-cup-2023  \n",
       "1  https://www.cricbuzz.com/live-cricket-scorecard/75420/pak-vs-ned-2nd-match-icc-cricket-world-cup-2023  \n",
       "2  https://www.cricbuzz.com/live-cricket-scorecard/75427/ban-vs-afg-3rd-match-icc-cricket-world-cup-2023  \n",
       "3   https://www.cricbuzz.com/live-cricket-scorecard/75434/rsa-vs-sl-4th-match-icc-cricket-world-cup-2023  \n",
       "4  https://www.cricbuzz.com/live-cricket-scorecard/75437/ind-vs-aus-5th-match-icc-cricket-world-cup-2023  "
      ]
     },
     "execution_count": 19,
     "metadata": {},
     "output_type": "execute_result"
    }
   ],
   "source": [
    "df.head()"
   ]
  },
  {
   "cell_type": "code",
   "execution_count": 23,
   "id": "837e40a4-0221-4129-80bb-3a8665c3014a",
   "metadata": {},
   "outputs": [],
   "source": [
    "df.to_csv('D:/DA_projects/CWC2023/Data/schedule.csv',index=False)"
   ]
  },
  {
   "cell_type": "code",
   "execution_count": null,
   "id": "434d5585",
   "metadata": {},
   "outputs": [],
   "source": []
  },
  {
   "cell_type": "code",
   "execution_count": null,
   "id": "e9e98416",
   "metadata": {},
   "outputs": [],
   "source": []
  },
  {
   "cell_type": "code",
   "execution_count": null,
   "id": "1831d292",
   "metadata": {},
   "outputs": [],
   "source": []
  },
  {
   "cell_type": "code",
   "execution_count": null,
   "id": "71f63e01",
   "metadata": {},
   "outputs": [],
   "source": []
  }
 ],
 "metadata": {
  "kernelspec": {
   "display_name": "Python 3 (ipykernel)",
   "language": "python",
   "name": "python3"
  },
  "language_info": {
   "codemirror_mode": {
    "name": "ipython",
    "version": 3
   },
   "file_extension": ".py",
   "mimetype": "text/x-python",
   "name": "python",
   "nbconvert_exporter": "python",
   "pygments_lexer": "ipython3",
   "version": "3.10.9"
  }
 },
 "nbformat": 4,
 "nbformat_minor": 5
}
